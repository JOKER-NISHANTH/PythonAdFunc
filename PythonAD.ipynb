{
  "nbformat": 4,
  "nbformat_minor": 0,
  "metadata": {
    "colab": {
      "name": "PythonAD.ipynb",
      "provenance": [],
      "authorship_tag": "ABX9TyOtibBGPZl9Z2niAyqvxEqb",
      "include_colab_link": true
    },
    "kernelspec": {
      "name": "python3",
      "display_name": "Python 3"
    }
  },
  "cells": [
    {
      "cell_type": "markdown",
      "metadata": {
        "id": "view-in-github",
        "colab_type": "text"
      },
      "source": [
        "<a href=\"https://colab.research.google.com/github/JOKER-NISHANTH/PythonAdFunc/blob/master/PythonAD.ipynb\" target=\"_parent\"><img src=\"https://colab.research.google.com/assets/colab-badge.svg\" alt=\"Open In Colab\"/></a>"
      ]
    },
    {
      "cell_type": "markdown",
      "metadata": {
        "id": "vRWyG-r7q2XH"
      },
      "source": [
        "To remove or delete an element tuple in Python"
      ]
    },
    {
      "cell_type": "code",
      "metadata": {
        "colab": {
          "base_uri": "https://localhost:8080/",
          "height": 190
        },
        "id": "p1inluMnqw12",
        "outputId": "a65b7330-9fa7-4658-f6bc-ee9904126f26"
      },
      "source": [
        "my_tuple = ('p','y','t','h','o','n')\r\n",
        "del my_tuple[0]"
      ],
      "execution_count": 1,
      "outputs": [
        {
          "output_type": "error",
          "ename": "TypeError",
          "evalue": "ignored",
          "traceback": [
            "\u001b[0;31m---------------------------------------------------------------------------\u001b[0m",
            "\u001b[0;31mTypeError\u001b[0m                                 Traceback (most recent call last)",
            "\u001b[0;32m<ipython-input-1-6e18075900ab>\u001b[0m in \u001b[0;36m<module>\u001b[0;34m()\u001b[0m\n\u001b[1;32m      1\u001b[0m \u001b[0mmy_tuple\u001b[0m \u001b[0;34m=\u001b[0m \u001b[0;34m(\u001b[0m\u001b[0;34m'p'\u001b[0m\u001b[0;34m,\u001b[0m\u001b[0;34m'y'\u001b[0m\u001b[0;34m,\u001b[0m\u001b[0;34m't'\u001b[0m\u001b[0;34m,\u001b[0m\u001b[0;34m'h'\u001b[0m\u001b[0;34m,\u001b[0m\u001b[0;34m'o'\u001b[0m\u001b[0;34m,\u001b[0m\u001b[0;34m'n'\u001b[0m\u001b[0;34m)\u001b[0m\u001b[0;34m\u001b[0m\u001b[0;34m\u001b[0m\u001b[0m\n\u001b[0;32m----> 2\u001b[0;31m \u001b[0;32mdel\u001b[0m \u001b[0mmy_tuple\u001b[0m\u001b[0;34m[\u001b[0m\u001b[0;36m0\u001b[0m\u001b[0;34m]\u001b[0m\u001b[0;34m\u001b[0m\u001b[0;34m\u001b[0m\u001b[0m\n\u001b[0m",
            "\u001b[0;31mTypeError\u001b[0m: 'tuple' object doesn't support item deletion"
          ]
        }
      ]
    },
    {
      "cell_type": "code",
      "metadata": {
        "colab": {
          "base_uri": "https://localhost:8080/"
        },
        "id": "2w7j1OrOrWzx",
        "outputId": "0d876f01-3be5-4c32-fc7a-c37f64b64443"
      },
      "source": [
        "my_tuple = ('p','y','t','h','o','n')\r\n",
        "\r\n",
        "try:  \r\n",
        "  del my_tuple[0]  \r\n",
        "\r\n",
        "except Exception as ex:\r\n",
        "  print('Error : ',ex)"
      ],
      "execution_count": 9,
      "outputs": [
        {
          "output_type": "stream",
          "text": [
            "Error :  'tuple' object doesn't support item deletion\n"
          ],
          "name": "stdout"
        }
      ]
    },
    {
      "cell_type": "code",
      "metadata": {
        "colab": {
          "base_uri": "https://localhost:8080/",
          "height": 226
        },
        "id": "pJpSg3fUrqbW",
        "outputId": "9cd0bb90-4936-426e-9251-4ef3ea6b3f29"
      },
      "source": [
        "my_tuple = ('p','y','t','h','o','n')\r\n",
        "\r\n",
        "try:  \r\n",
        "  del my_tuple[0]  \r\n",
        "\r\n",
        "except Exception as ex:\r\n",
        "  print('Error : ',ex)\r\n",
        "\r\n",
        "\r\n",
        "del my_tuple  \r\n",
        "print(my_tuple)"
      ],
      "execution_count": 12,
      "outputs": [
        {
          "output_type": "stream",
          "text": [
            "Error :  'tuple' object doesn't support item deletion\n"
          ],
          "name": "stdout"
        },
        {
          "output_type": "error",
          "ename": "NameError",
          "evalue": "ignored",
          "traceback": [
            "\u001b[0;31m---------------------------------------------------------------------------\u001b[0m",
            "\u001b[0;31mNameError\u001b[0m                                 Traceback (most recent call last)",
            "\u001b[0;32m<ipython-input-12-f0beda1f4d1d>\u001b[0m in \u001b[0;36m<module>\u001b[0;34m()\u001b[0m\n\u001b[1;32m      9\u001b[0m \u001b[0;34m\u001b[0m\u001b[0m\n\u001b[1;32m     10\u001b[0m \u001b[0;32mdel\u001b[0m \u001b[0mmy_tuple\u001b[0m\u001b[0;34m\u001b[0m\u001b[0;34m\u001b[0m\u001b[0m\n\u001b[0;32m---> 11\u001b[0;31m \u001b[0mprint\u001b[0m\u001b[0;34m(\u001b[0m\u001b[0mmy_tuple\u001b[0m\u001b[0;34m)\u001b[0m\u001b[0;34m\u001b[0m\u001b[0;34m\u001b[0m\u001b[0m\n\u001b[0m",
            "\u001b[0;31mNameError\u001b[0m: name 'my_tuple' is not defined"
          ]
        }
      ]
    },
    {
      "cell_type": "code",
      "metadata": {
        "colab": {
          "base_uri": "https://localhost:8080/"
        },
        "id": "px19aX03tGjM",
        "outputId": "3e22051f-fe22-4af4-d1dd-889dd4eb3841"
      },
      "source": [
        "my_tuple = ('p','y','t','h','o','n')\r\n",
        "\r\n",
        "try:  \r\n",
        "  del my_tuple[0]  \r\n",
        "\r\n",
        "except Exception as ex:\r\n",
        "  print('Error : ',ex)\r\n",
        "\r\n",
        "\r\n",
        "del my_tuple\r\n",
        "try:  \r\n",
        "  print(my_tuple)\r\n",
        "except Exception as ex:\r\n",
        "  print(\"Error : \",ex)"
      ],
      "execution_count": 13,
      "outputs": [
        {
          "output_type": "stream",
          "text": [
            "Error :  'tuple' object doesn't support item deletion\n",
            "Error :  name 'my_tuple' is not defined\n"
          ],
          "name": "stdout"
        }
      ]
    },
    {
      "cell_type": "markdown",
      "metadata": {
        "id": "XkOqR5hLtiPr"
      },
      "source": [
        "\r\n",
        "\r\n",
        "---\r\n",
        "\r\n"
      ]
    },
    {
      "cell_type": "markdown",
      "metadata": {
        "id": "h6Vr_Al_tkI9"
      },
      "source": [
        "Switch case implementation by using Dictionary"
      ]
    },
    {
      "cell_type": "code",
      "metadata": {
        "id": "YELIoOluteOM"
      },
      "source": [
        ""
      ],
      "execution_count": null,
      "outputs": []
    }
  ]
}