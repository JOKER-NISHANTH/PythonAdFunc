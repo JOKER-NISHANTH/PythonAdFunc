{
  "nbformat": 4,
  "nbformat_minor": 0,
  "metadata": {
    "colab": {
      "name": "PythonAD.ipynb",
      "provenance": [],
      "toc_visible": true,
      "authorship_tag": "ABX9TyNCRmGoihesE1XIx++tpgkL",
      "include_colab_link": true
    },
    "kernelspec": {
      "name": "python3",
      "display_name": "Python 3"
    }
  },
  "cells": [
    {
      "cell_type": "markdown",
      "metadata": {
        "id": "view-in-github",
        "colab_type": "text"
      },
      "source": [
        "<a href=\"https://colab.research.google.com/github/JOKER-NISHANTH/PythonAdFunc/blob/master/PythonAD.ipynb\" target=\"_parent\"><img src=\"https://colab.research.google.com/assets/colab-badge.svg\" alt=\"Open In Colab\"/></a>"
      ]
    },
    {
      "cell_type": "markdown",
      "metadata": {
        "id": "vRWyG-r7q2XH"
      },
      "source": [
        "To remove or delete an element tuple in Python"
      ]
    },
    {
      "cell_type": "code",
      "metadata": {
        "colab": {
          "base_uri": "https://localhost:8080/",
          "height": 190
        },
        "id": "p1inluMnqw12",
        "outputId": "a65b7330-9fa7-4658-f6bc-ee9904126f26"
      },
      "source": [
        "my_tuple = ('p','y','t','h','o','n')\r\n",
        "del my_tuple[0]"
      ],
      "execution_count": null,
      "outputs": [
        {
          "output_type": "error",
          "ename": "TypeError",
          "evalue": "ignored",
          "traceback": [
            "\u001b[0;31m---------------------------------------------------------------------------\u001b[0m",
            "\u001b[0;31mTypeError\u001b[0m                                 Traceback (most recent call last)",
            "\u001b[0;32m<ipython-input-1-6e18075900ab>\u001b[0m in \u001b[0;36m<module>\u001b[0;34m()\u001b[0m\n\u001b[1;32m      1\u001b[0m \u001b[0mmy_tuple\u001b[0m \u001b[0;34m=\u001b[0m \u001b[0;34m(\u001b[0m\u001b[0;34m'p'\u001b[0m\u001b[0;34m,\u001b[0m\u001b[0;34m'y'\u001b[0m\u001b[0;34m,\u001b[0m\u001b[0;34m't'\u001b[0m\u001b[0;34m,\u001b[0m\u001b[0;34m'h'\u001b[0m\u001b[0;34m,\u001b[0m\u001b[0;34m'o'\u001b[0m\u001b[0;34m,\u001b[0m\u001b[0;34m'n'\u001b[0m\u001b[0;34m)\u001b[0m\u001b[0;34m\u001b[0m\u001b[0;34m\u001b[0m\u001b[0m\n\u001b[0;32m----> 2\u001b[0;31m \u001b[0;32mdel\u001b[0m \u001b[0mmy_tuple\u001b[0m\u001b[0;34m[\u001b[0m\u001b[0;36m0\u001b[0m\u001b[0;34m]\u001b[0m\u001b[0;34m\u001b[0m\u001b[0;34m\u001b[0m\u001b[0m\n\u001b[0m",
            "\u001b[0;31mTypeError\u001b[0m: 'tuple' object doesn't support item deletion"
          ]
        }
      ]
    },
    {
      "cell_type": "code",
      "metadata": {
        "colab": {
          "base_uri": "https://localhost:8080/"
        },
        "id": "2w7j1OrOrWzx",
        "outputId": "0d876f01-3be5-4c32-fc7a-c37f64b64443"
      },
      "source": [
        "my_tuple = ('p','y','t','h','o','n')\r\n",
        "\r\n",
        "try:  \r\n",
        "  del my_tuple[0]  \r\n",
        "\r\n",
        "except Exception as ex:\r\n",
        "  print('Error : ',ex)"
      ],
      "execution_count": null,
      "outputs": [
        {
          "output_type": "stream",
          "text": [
            "Error :  'tuple' object doesn't support item deletion\n"
          ],
          "name": "stdout"
        }
      ]
    },
    {
      "cell_type": "code",
      "metadata": {
        "colab": {
          "base_uri": "https://localhost:8080/",
          "height": 226
        },
        "id": "pJpSg3fUrqbW",
        "outputId": "9cd0bb90-4936-426e-9251-4ef3ea6b3f29"
      },
      "source": [
        "my_tuple = ('p','y','t','h','o','n')\r\n",
        "\r\n",
        "try:  \r\n",
        "  del my_tuple[0]  \r\n",
        "\r\n",
        "except Exception as ex:\r\n",
        "  print('Error : ',ex)\r\n",
        "\r\n",
        "\r\n",
        "del my_tuple  \r\n",
        "print(my_tuple)"
      ],
      "execution_count": null,
      "outputs": [
        {
          "output_type": "stream",
          "text": [
            "Error :  'tuple' object doesn't support item deletion\n"
          ],
          "name": "stdout"
        },
        {
          "output_type": "error",
          "ename": "NameError",
          "evalue": "ignored",
          "traceback": [
            "\u001b[0;31m---------------------------------------------------------------------------\u001b[0m",
            "\u001b[0;31mNameError\u001b[0m                                 Traceback (most recent call last)",
            "\u001b[0;32m<ipython-input-12-f0beda1f4d1d>\u001b[0m in \u001b[0;36m<module>\u001b[0;34m()\u001b[0m\n\u001b[1;32m      9\u001b[0m \u001b[0;34m\u001b[0m\u001b[0m\n\u001b[1;32m     10\u001b[0m \u001b[0;32mdel\u001b[0m \u001b[0mmy_tuple\u001b[0m\u001b[0;34m\u001b[0m\u001b[0;34m\u001b[0m\u001b[0m\n\u001b[0;32m---> 11\u001b[0;31m \u001b[0mprint\u001b[0m\u001b[0;34m(\u001b[0m\u001b[0mmy_tuple\u001b[0m\u001b[0;34m)\u001b[0m\u001b[0;34m\u001b[0m\u001b[0;34m\u001b[0m\u001b[0m\n\u001b[0m",
            "\u001b[0;31mNameError\u001b[0m: name 'my_tuple' is not defined"
          ]
        }
      ]
    },
    {
      "cell_type": "code",
      "metadata": {
        "colab": {
          "base_uri": "https://localhost:8080/"
        },
        "id": "px19aX03tGjM",
        "outputId": "3e22051f-fe22-4af4-d1dd-889dd4eb3841"
      },
      "source": [
        "my_tuple = ('p','y','t','h','o','n')\r\n",
        "\r\n",
        "try:  \r\n",
        "  del my_tuple[0]  \r\n",
        "\r\n",
        "except Exception as ex:\r\n",
        "  print('Error : ',ex)\r\n",
        "\r\n",
        "\r\n",
        "del my_tuple\r\n",
        "try:  \r\n",
        "  print(my_tuple)\r\n",
        "except Exception as ex:\r\n",
        "  print(\"Error : \",ex)"
      ],
      "execution_count": null,
      "outputs": [
        {
          "output_type": "stream",
          "text": [
            "Error :  'tuple' object doesn't support item deletion\n",
            "Error :  name 'my_tuple' is not defined\n"
          ],
          "name": "stdout"
        }
      ]
    },
    {
      "cell_type": "markdown",
      "metadata": {
        "id": "XkOqR5hLtiPr"
      },
      "source": [
        "\r\n",
        "\r\n",
        "---\r\n",
        "\r\n"
      ]
    },
    {
      "cell_type": "markdown",
      "metadata": {
        "id": "h6Vr_Al_tkI9"
      },
      "source": [
        "Switch case implementation by using Dictionary"
      ]
    },
    {
      "cell_type": "code",
      "metadata": {
        "colab": {
          "base_uri": "https://localhost:8080/"
        },
        "id": "YELIoOluteOM",
        "outputId": "36867afc-04a8-4326-8851-01f0fc9c7e18"
      },
      "source": [
        "def monday():\r\n",
        "  return 'monday'\r\n",
        "\r\n",
        "def tuesday():\r\n",
        "  return 'tuesday'\r\n",
        "\r\n",
        "def wednesday():\r\n",
        "  return 'wednesday'\r\n",
        "\r\n",
        "def thursday():\r\n",
        "  return 'thursday'  \r\n",
        "\r\n",
        "def friday():\r\n",
        "  return 'friday'\r\n",
        "\r\n",
        "def saturday():\r\n",
        "  return 'saturday'\r\n",
        "\r\n",
        "def sunday():\r\n",
        "  return 'sunday'    \r\n",
        "\r\n",
        "def default():\r\n",
        "  return 'Incorrect day'\r\n",
        "\r\n",
        "\r\n",
        "switcher={1:monday,2:tuesday,3:wednesday,4:thursday,5:friday,6:saturday,7:sunday}  \r\n",
        "\r\n",
        "def switch(day):\r\n",
        "  #return switcher.get(day,default) \r\n",
        "  return switcher.get(day,default)() # here () denote return function eg: day is 1 means monday()\r\n",
        "\r\n",
        "\r\n",
        "print(switch(1))  \r\n",
        "print(switch(5)) \r\n",
        "print(switch(0))   "
      ],
      "execution_count": null,
      "outputs": [
        {
          "output_type": "stream",
          "text": [
            "monday\n",
            "friday\n",
            "Incorrect day\n"
          ],
          "name": "stdout"
        }
      ]
    },
    {
      "cell_type": "markdown",
      "metadata": {
        "id": "YjZPDJKRwrap"
      },
      "source": [
        "\r\n",
        "\r\n",
        "---\r\n",
        "\r\n"
      ]
    },
    {
      "cell_type": "markdown",
      "metadata": {
        "id": "QUtGyhoRw-iu"
      },
      "source": [
        "Math function"
      ]
    },
    {
      "cell_type": "code",
      "metadata": {
        "colab": {
          "base_uri": "https://localhost:8080/"
        },
        "id": "m_3YgmI5v2Pq",
        "outputId": "c4d4c7b2-c691-40f1-ffcf-12af195e4884"
      },
      "source": [
        "import math\r\n",
        "print(math.pi)\r\n",
        "print(math.cos(math.pi))\r\n",
        "print(math.exp(10))\r\n",
        "print(math.log10(1000))\r\n",
        "print(math.sinh(1))\r\n",
        "print(math.factorial(6))\r\n"
      ],
      "execution_count": null,
      "outputs": [
        {
          "output_type": "stream",
          "text": [
            "3.141592653589793\n",
            "-1.0\n",
            "22026.465794806718\n",
            "3.0\n",
            "1.1752011936438014\n",
            "720\n"
          ],
          "name": "stdout"
        }
      ]
    },
    {
      "cell_type": "markdown",
      "metadata": {
        "id": "_CqaT1RKSvH4"
      },
      "source": [
        "---"
      ]
    },
    {
      "cell_type": "markdown",
      "metadata": {
        "id": "VGPPwknI06ci"
      },
      "source": [
        "### Turtle"
      ]
    },
    {
      "cell_type": "code",
      "metadata": {
        "colab": {
          "base_uri": "https://localhost:8080/",
          "height": 394
        },
        "id": "oMVZZD_qzsy3",
        "outputId": "813a2d1c-9348-4ae0-d2fb-246438f799ca"
      },
      "source": [
        "from turtle import *\r\n",
        "\r\n",
        "wn=turtle.Screen()\r\n",
        "x = turtle.Turtle()\r\n",
        "x.forward(150) # move forward\r\n",
        "x.left(90)#degree or angle\r\n",
        "x.forward(75)\r\n",
        "\r\n"
      ],
      "execution_count": null,
      "outputs": [
        {
          "output_type": "error",
          "ename": "TclError",
          "evalue": "ignored",
          "traceback": [
            "\u001b[0;31m---------------------------------------------------------------------------\u001b[0m",
            "\u001b[0;31mTclError\u001b[0m                                  Traceback (most recent call last)",
            "\u001b[0;32m<ipython-input-77-740cf252d30d>\u001b[0m in \u001b[0;36m<module>\u001b[0;34m()\u001b[0m\n\u001b[1;32m      1\u001b[0m \u001b[0;32mfrom\u001b[0m \u001b[0mturtle\u001b[0m \u001b[0;32mimport\u001b[0m \u001b[0;34m*\u001b[0m\u001b[0;34m\u001b[0m\u001b[0;34m\u001b[0m\u001b[0m\n\u001b[1;32m      2\u001b[0m \u001b[0;34m\u001b[0m\u001b[0m\n\u001b[0;32m----> 3\u001b[0;31m \u001b[0mwn\u001b[0m\u001b[0;34m=\u001b[0m\u001b[0mturtle\u001b[0m\u001b[0;34m.\u001b[0m\u001b[0mScreen\u001b[0m\u001b[0;34m(\u001b[0m\u001b[0;34m)\u001b[0m\u001b[0;34m\u001b[0m\u001b[0;34m\u001b[0m\u001b[0m\n\u001b[0m\u001b[1;32m      4\u001b[0m \u001b[0mx\u001b[0m \u001b[0;34m=\u001b[0m \u001b[0mturtle\u001b[0m\u001b[0;34m.\u001b[0m\u001b[0mTurtle\u001b[0m\u001b[0;34m(\u001b[0m\u001b[0;34m)\u001b[0m\u001b[0;34m\u001b[0m\u001b[0;34m\u001b[0m\u001b[0m\n\u001b[1;32m      5\u001b[0m \u001b[0mx\u001b[0m\u001b[0;34m.\u001b[0m\u001b[0mforward\u001b[0m\u001b[0;34m(\u001b[0m\u001b[0;36m150\u001b[0m\u001b[0;34m)\u001b[0m \u001b[0;31m# move forward\u001b[0m\u001b[0;34m\u001b[0m\u001b[0;34m\u001b[0m\u001b[0m\n",
            "\u001b[0;32m/usr/lib/python3.6/turtle.py\u001b[0m in \u001b[0;36mScreen\u001b[0;34m()\u001b[0m\n\u001b[1;32m   3660\u001b[0m     else return the existing one.\"\"\"\n\u001b[1;32m   3661\u001b[0m     \u001b[0;32mif\u001b[0m \u001b[0mTurtle\u001b[0m\u001b[0;34m.\u001b[0m\u001b[0m_screen\u001b[0m \u001b[0;32mis\u001b[0m \u001b[0;32mNone\u001b[0m\u001b[0;34m:\u001b[0m\u001b[0;34m\u001b[0m\u001b[0;34m\u001b[0m\u001b[0m\n\u001b[0;32m-> 3662\u001b[0;31m         \u001b[0mTurtle\u001b[0m\u001b[0;34m.\u001b[0m\u001b[0m_screen\u001b[0m \u001b[0;34m=\u001b[0m \u001b[0m_Screen\u001b[0m\u001b[0;34m(\u001b[0m\u001b[0;34m)\u001b[0m\u001b[0;34m\u001b[0m\u001b[0;34m\u001b[0m\u001b[0m\n\u001b[0m\u001b[1;32m   3663\u001b[0m     \u001b[0;32mreturn\u001b[0m \u001b[0mTurtle\u001b[0m\u001b[0;34m.\u001b[0m\u001b[0m_screen\u001b[0m\u001b[0;34m\u001b[0m\u001b[0;34m\u001b[0m\u001b[0m\n\u001b[1;32m   3664\u001b[0m \u001b[0;34m\u001b[0m\u001b[0m\n",
            "\u001b[0;32m/usr/lib/python3.6/turtle.py\u001b[0m in \u001b[0;36m__init__\u001b[0;34m(self)\u001b[0m\n\u001b[1;32m   3676\u001b[0m         \u001b[0;31m# preserved (perhaps by passing it as an optional parameter)\u001b[0m\u001b[0;34m\u001b[0m\u001b[0;34m\u001b[0m\u001b[0;34m\u001b[0m\u001b[0m\n\u001b[1;32m   3677\u001b[0m         \u001b[0;32mif\u001b[0m \u001b[0m_Screen\u001b[0m\u001b[0;34m.\u001b[0m\u001b[0m_root\u001b[0m \u001b[0;32mis\u001b[0m \u001b[0;32mNone\u001b[0m\u001b[0;34m:\u001b[0m\u001b[0;34m\u001b[0m\u001b[0;34m\u001b[0m\u001b[0m\n\u001b[0;32m-> 3678\u001b[0;31m             \u001b[0m_Screen\u001b[0m\u001b[0;34m.\u001b[0m\u001b[0m_root\u001b[0m \u001b[0;34m=\u001b[0m \u001b[0mself\u001b[0m\u001b[0;34m.\u001b[0m\u001b[0m_root\u001b[0m \u001b[0;34m=\u001b[0m \u001b[0m_Root\u001b[0m\u001b[0;34m(\u001b[0m\u001b[0;34m)\u001b[0m\u001b[0;34m\u001b[0m\u001b[0;34m\u001b[0m\u001b[0m\n\u001b[0m\u001b[1;32m   3679\u001b[0m             \u001b[0mself\u001b[0m\u001b[0;34m.\u001b[0m\u001b[0m_root\u001b[0m\u001b[0;34m.\u001b[0m\u001b[0mtitle\u001b[0m\u001b[0;34m(\u001b[0m\u001b[0m_Screen\u001b[0m\u001b[0;34m.\u001b[0m\u001b[0m_title\u001b[0m\u001b[0;34m)\u001b[0m\u001b[0;34m\u001b[0m\u001b[0;34m\u001b[0m\u001b[0m\n\u001b[1;32m   3680\u001b[0m             \u001b[0mself\u001b[0m\u001b[0;34m.\u001b[0m\u001b[0m_root\u001b[0m\u001b[0;34m.\u001b[0m\u001b[0mondestroy\u001b[0m\u001b[0;34m(\u001b[0m\u001b[0mself\u001b[0m\u001b[0;34m.\u001b[0m\u001b[0m_destroy\u001b[0m\u001b[0;34m)\u001b[0m\u001b[0;34m\u001b[0m\u001b[0;34m\u001b[0m\u001b[0m\n",
            "\u001b[0;32m/usr/lib/python3.6/turtle.py\u001b[0m in \u001b[0;36m__init__\u001b[0;34m(self)\u001b[0m\n\u001b[1;32m    432\u001b[0m     \u001b[0;34m\"\"\"Root class for Screen based on Tkinter.\"\"\"\u001b[0m\u001b[0;34m\u001b[0m\u001b[0;34m\u001b[0m\u001b[0m\n\u001b[1;32m    433\u001b[0m     \u001b[0;32mdef\u001b[0m \u001b[0m__init__\u001b[0m\u001b[0;34m(\u001b[0m\u001b[0mself\u001b[0m\u001b[0;34m)\u001b[0m\u001b[0;34m:\u001b[0m\u001b[0;34m\u001b[0m\u001b[0;34m\u001b[0m\u001b[0m\n\u001b[0;32m--> 434\u001b[0;31m         \u001b[0mTK\u001b[0m\u001b[0;34m.\u001b[0m\u001b[0mTk\u001b[0m\u001b[0;34m.\u001b[0m\u001b[0m__init__\u001b[0m\u001b[0;34m(\u001b[0m\u001b[0mself\u001b[0m\u001b[0;34m)\u001b[0m\u001b[0;34m\u001b[0m\u001b[0;34m\u001b[0m\u001b[0m\n\u001b[0m\u001b[1;32m    435\u001b[0m \u001b[0;34m\u001b[0m\u001b[0m\n\u001b[1;32m    436\u001b[0m     \u001b[0;32mdef\u001b[0m \u001b[0msetupcanvas\u001b[0m\u001b[0;34m(\u001b[0m\u001b[0mself\u001b[0m\u001b[0;34m,\u001b[0m \u001b[0mwidth\u001b[0m\u001b[0;34m,\u001b[0m \u001b[0mheight\u001b[0m\u001b[0;34m,\u001b[0m \u001b[0mcwidth\u001b[0m\u001b[0;34m,\u001b[0m \u001b[0mcheight\u001b[0m\u001b[0;34m)\u001b[0m\u001b[0;34m:\u001b[0m\u001b[0;34m\u001b[0m\u001b[0;34m\u001b[0m\u001b[0m\n",
            "\u001b[0;32m/usr/lib/python3.6/tkinter/__init__.py\u001b[0m in \u001b[0;36m__init__\u001b[0;34m(self, screenName, baseName, className, useTk, sync, use)\u001b[0m\n\u001b[1;32m   2021\u001b[0m                 \u001b[0mbaseName\u001b[0m \u001b[0;34m=\u001b[0m \u001b[0mbaseName\u001b[0m \u001b[0;34m+\u001b[0m \u001b[0mext\u001b[0m\u001b[0;34m\u001b[0m\u001b[0;34m\u001b[0m\u001b[0m\n\u001b[1;32m   2022\u001b[0m         \u001b[0minteractive\u001b[0m \u001b[0;34m=\u001b[0m \u001b[0;36m0\u001b[0m\u001b[0;34m\u001b[0m\u001b[0;34m\u001b[0m\u001b[0m\n\u001b[0;32m-> 2023\u001b[0;31m         \u001b[0mself\u001b[0m\u001b[0;34m.\u001b[0m\u001b[0mtk\u001b[0m \u001b[0;34m=\u001b[0m \u001b[0m_tkinter\u001b[0m\u001b[0;34m.\u001b[0m\u001b[0mcreate\u001b[0m\u001b[0;34m(\u001b[0m\u001b[0mscreenName\u001b[0m\u001b[0;34m,\u001b[0m \u001b[0mbaseName\u001b[0m\u001b[0;34m,\u001b[0m \u001b[0mclassName\u001b[0m\u001b[0;34m,\u001b[0m \u001b[0minteractive\u001b[0m\u001b[0;34m,\u001b[0m \u001b[0mwantobjects\u001b[0m\u001b[0;34m,\u001b[0m \u001b[0museTk\u001b[0m\u001b[0;34m,\u001b[0m \u001b[0msync\u001b[0m\u001b[0;34m,\u001b[0m \u001b[0muse\u001b[0m\u001b[0;34m)\u001b[0m\u001b[0;34m\u001b[0m\u001b[0;34m\u001b[0m\u001b[0m\n\u001b[0m\u001b[1;32m   2024\u001b[0m         \u001b[0;32mif\u001b[0m \u001b[0museTk\u001b[0m\u001b[0;34m:\u001b[0m\u001b[0;34m\u001b[0m\u001b[0;34m\u001b[0m\u001b[0m\n\u001b[1;32m   2025\u001b[0m             \u001b[0mself\u001b[0m\u001b[0;34m.\u001b[0m\u001b[0m_loadtk\u001b[0m\u001b[0;34m(\u001b[0m\u001b[0;34m)\u001b[0m\u001b[0;34m\u001b[0m\u001b[0;34m\u001b[0m\u001b[0m\n",
            "\u001b[0;31mTclError\u001b[0m: no display name and no $DISPLAY environment variable"
          ]
        }
      ]
    },
    {
      "cell_type": "code",
      "metadata": {
        "colab": {
          "base_uri": "https://localhost:8080/",
          "height": 376
        },
        "id": "mpBWesN8-16Q",
        "outputId": "5a00e1dc-7843-47d3-d594-5ec0817eacc5"
      },
      "source": [
        "from turtle\r\n",
        "wn = turtle.Screen()\r\n",
        "wn.bgcolor(\"light green\")\r\n",
        "wn.title(\"Turtle\")\r\n",
        "skk = turtle.Turtle()"
      ],
      "execution_count": null,
      "outputs": [
        {
          "output_type": "error",
          "ename": "TclError",
          "evalue": "ignored",
          "traceback": [
            "\u001b[0;31m---------------------------------------------------------------------------\u001b[0m",
            "\u001b[0;31mTclError\u001b[0m                                  Traceback (most recent call last)",
            "\u001b[0;32m<ipython-input-75-8d736b1d2861>\u001b[0m in \u001b[0;36m<module>\u001b[0;34m()\u001b[0m\n\u001b[1;32m      1\u001b[0m \u001b[0;32mimport\u001b[0m \u001b[0mturtle\u001b[0m\u001b[0;34m\u001b[0m\u001b[0;34m\u001b[0m\u001b[0m\n\u001b[1;32m      2\u001b[0m \u001b[0;34m\u001b[0m\u001b[0m\n\u001b[0;32m----> 3\u001b[0;31m \u001b[0mwindow\u001b[0m \u001b[0;34m=\u001b[0m \u001b[0mturtle\u001b[0m\u001b[0;34m.\u001b[0m\u001b[0mScreen\u001b[0m\u001b[0;34m(\u001b[0m\u001b[0;34m)\u001b[0m\u001b[0;34m\u001b[0m\u001b[0;34m\u001b[0m\u001b[0m\n\u001b[0m\u001b[1;32m      4\u001b[0m \u001b[0mwindow\u001b[0m\u001b[0;34m.\u001b[0m\u001b[0mbgcolor\u001b[0m\u001b[0;34m(\u001b[0m\u001b[0;34m'lightgreen'\u001b[0m\u001b[0;34m)\u001b[0m\u001b[0;34m\u001b[0m\u001b[0;34m\u001b[0m\u001b[0m\n",
            "\u001b[0;32m/usr/lib/python3.6/turtle.py\u001b[0m in \u001b[0;36mScreen\u001b[0;34m()\u001b[0m\n\u001b[1;32m   3660\u001b[0m     else return the existing one.\"\"\"\n\u001b[1;32m   3661\u001b[0m     \u001b[0;32mif\u001b[0m \u001b[0mTurtle\u001b[0m\u001b[0;34m.\u001b[0m\u001b[0m_screen\u001b[0m \u001b[0;32mis\u001b[0m \u001b[0;32mNone\u001b[0m\u001b[0;34m:\u001b[0m\u001b[0;34m\u001b[0m\u001b[0;34m\u001b[0m\u001b[0m\n\u001b[0;32m-> 3662\u001b[0;31m         \u001b[0mTurtle\u001b[0m\u001b[0;34m.\u001b[0m\u001b[0m_screen\u001b[0m \u001b[0;34m=\u001b[0m \u001b[0m_Screen\u001b[0m\u001b[0;34m(\u001b[0m\u001b[0;34m)\u001b[0m\u001b[0;34m\u001b[0m\u001b[0;34m\u001b[0m\u001b[0m\n\u001b[0m\u001b[1;32m   3663\u001b[0m     \u001b[0;32mreturn\u001b[0m \u001b[0mTurtle\u001b[0m\u001b[0;34m.\u001b[0m\u001b[0m_screen\u001b[0m\u001b[0;34m\u001b[0m\u001b[0;34m\u001b[0m\u001b[0m\n\u001b[1;32m   3664\u001b[0m \u001b[0;34m\u001b[0m\u001b[0m\n",
            "\u001b[0;32m/usr/lib/python3.6/turtle.py\u001b[0m in \u001b[0;36m__init__\u001b[0;34m(self)\u001b[0m\n\u001b[1;32m   3676\u001b[0m         \u001b[0;31m# preserved (perhaps by passing it as an optional parameter)\u001b[0m\u001b[0;34m\u001b[0m\u001b[0;34m\u001b[0m\u001b[0;34m\u001b[0m\u001b[0m\n\u001b[1;32m   3677\u001b[0m         \u001b[0;32mif\u001b[0m \u001b[0m_Screen\u001b[0m\u001b[0;34m.\u001b[0m\u001b[0m_root\u001b[0m \u001b[0;32mis\u001b[0m \u001b[0;32mNone\u001b[0m\u001b[0;34m:\u001b[0m\u001b[0;34m\u001b[0m\u001b[0;34m\u001b[0m\u001b[0m\n\u001b[0;32m-> 3678\u001b[0;31m             \u001b[0m_Screen\u001b[0m\u001b[0;34m.\u001b[0m\u001b[0m_root\u001b[0m \u001b[0;34m=\u001b[0m \u001b[0mself\u001b[0m\u001b[0;34m.\u001b[0m\u001b[0m_root\u001b[0m \u001b[0;34m=\u001b[0m \u001b[0m_Root\u001b[0m\u001b[0;34m(\u001b[0m\u001b[0;34m)\u001b[0m\u001b[0;34m\u001b[0m\u001b[0;34m\u001b[0m\u001b[0m\n\u001b[0m\u001b[1;32m   3679\u001b[0m             \u001b[0mself\u001b[0m\u001b[0;34m.\u001b[0m\u001b[0m_root\u001b[0m\u001b[0;34m.\u001b[0m\u001b[0mtitle\u001b[0m\u001b[0;34m(\u001b[0m\u001b[0m_Screen\u001b[0m\u001b[0;34m.\u001b[0m\u001b[0m_title\u001b[0m\u001b[0;34m)\u001b[0m\u001b[0;34m\u001b[0m\u001b[0;34m\u001b[0m\u001b[0m\n\u001b[1;32m   3680\u001b[0m             \u001b[0mself\u001b[0m\u001b[0;34m.\u001b[0m\u001b[0m_root\u001b[0m\u001b[0;34m.\u001b[0m\u001b[0mondestroy\u001b[0m\u001b[0;34m(\u001b[0m\u001b[0mself\u001b[0m\u001b[0;34m.\u001b[0m\u001b[0m_destroy\u001b[0m\u001b[0;34m)\u001b[0m\u001b[0;34m\u001b[0m\u001b[0;34m\u001b[0m\u001b[0m\n",
            "\u001b[0;32m/usr/lib/python3.6/turtle.py\u001b[0m in \u001b[0;36m__init__\u001b[0;34m(self)\u001b[0m\n\u001b[1;32m    432\u001b[0m     \u001b[0;34m\"\"\"Root class for Screen based on Tkinter.\"\"\"\u001b[0m\u001b[0;34m\u001b[0m\u001b[0;34m\u001b[0m\u001b[0m\n\u001b[1;32m    433\u001b[0m     \u001b[0;32mdef\u001b[0m \u001b[0m__init__\u001b[0m\u001b[0;34m(\u001b[0m\u001b[0mself\u001b[0m\u001b[0;34m)\u001b[0m\u001b[0;34m:\u001b[0m\u001b[0;34m\u001b[0m\u001b[0;34m\u001b[0m\u001b[0m\n\u001b[0;32m--> 434\u001b[0;31m         \u001b[0mTK\u001b[0m\u001b[0;34m.\u001b[0m\u001b[0mTk\u001b[0m\u001b[0;34m.\u001b[0m\u001b[0m__init__\u001b[0m\u001b[0;34m(\u001b[0m\u001b[0mself\u001b[0m\u001b[0;34m)\u001b[0m\u001b[0;34m\u001b[0m\u001b[0;34m\u001b[0m\u001b[0m\n\u001b[0m\u001b[1;32m    435\u001b[0m \u001b[0;34m\u001b[0m\u001b[0m\n\u001b[1;32m    436\u001b[0m     \u001b[0;32mdef\u001b[0m \u001b[0msetupcanvas\u001b[0m\u001b[0;34m(\u001b[0m\u001b[0mself\u001b[0m\u001b[0;34m,\u001b[0m \u001b[0mwidth\u001b[0m\u001b[0;34m,\u001b[0m \u001b[0mheight\u001b[0m\u001b[0;34m,\u001b[0m \u001b[0mcwidth\u001b[0m\u001b[0;34m,\u001b[0m \u001b[0mcheight\u001b[0m\u001b[0;34m)\u001b[0m\u001b[0;34m:\u001b[0m\u001b[0;34m\u001b[0m\u001b[0;34m\u001b[0m\u001b[0m\n",
            "\u001b[0;32m/usr/lib/python3.6/tkinter/__init__.py\u001b[0m in \u001b[0;36m__init__\u001b[0;34m(self, screenName, baseName, className, useTk, sync, use)\u001b[0m\n\u001b[1;32m   2021\u001b[0m                 \u001b[0mbaseName\u001b[0m \u001b[0;34m=\u001b[0m \u001b[0mbaseName\u001b[0m \u001b[0;34m+\u001b[0m \u001b[0mext\u001b[0m\u001b[0;34m\u001b[0m\u001b[0;34m\u001b[0m\u001b[0m\n\u001b[1;32m   2022\u001b[0m         \u001b[0minteractive\u001b[0m \u001b[0;34m=\u001b[0m \u001b[0;36m0\u001b[0m\u001b[0;34m\u001b[0m\u001b[0;34m\u001b[0m\u001b[0m\n\u001b[0;32m-> 2023\u001b[0;31m         \u001b[0mself\u001b[0m\u001b[0;34m.\u001b[0m\u001b[0mtk\u001b[0m \u001b[0;34m=\u001b[0m \u001b[0m_tkinter\u001b[0m\u001b[0;34m.\u001b[0m\u001b[0mcreate\u001b[0m\u001b[0;34m(\u001b[0m\u001b[0mscreenName\u001b[0m\u001b[0;34m,\u001b[0m \u001b[0mbaseName\u001b[0m\u001b[0;34m,\u001b[0m \u001b[0mclassName\u001b[0m\u001b[0;34m,\u001b[0m \u001b[0minteractive\u001b[0m\u001b[0;34m,\u001b[0m \u001b[0mwantobjects\u001b[0m\u001b[0;34m,\u001b[0m \u001b[0museTk\u001b[0m\u001b[0;34m,\u001b[0m \u001b[0msync\u001b[0m\u001b[0;34m,\u001b[0m \u001b[0muse\u001b[0m\u001b[0;34m)\u001b[0m\u001b[0;34m\u001b[0m\u001b[0;34m\u001b[0m\u001b[0m\n\u001b[0m\u001b[1;32m   2024\u001b[0m         \u001b[0;32mif\u001b[0m \u001b[0museTk\u001b[0m\u001b[0;34m:\u001b[0m\u001b[0;34m\u001b[0m\u001b[0;34m\u001b[0m\u001b[0m\n\u001b[1;32m   2025\u001b[0m             \u001b[0mself\u001b[0m\u001b[0;34m.\u001b[0m\u001b[0m_loadtk\u001b[0m\u001b[0;34m(\u001b[0m\u001b[0;34m)\u001b[0m\u001b[0;34m\u001b[0m\u001b[0;34m\u001b[0m\u001b[0m\n",
            "\u001b[0;31mTclError\u001b[0m: no display name and no $DISPLAY environment variable"
          ]
        }
      ]
    },
    {
      "cell_type": "markdown",
      "metadata": {
        "id": "40gl0Cr6Syoc"
      },
      "source": [
        "\r\n",
        "\r\n",
        "---\r\n",
        "\r\n"
      ]
    },
    {
      "cell_type": "markdown",
      "metadata": {
        "id": "_nQspS19xrGi"
      },
      "source": [
        "### Magic methods"
      ]
    },
    {
      "cell_type": "markdown",
      "metadata": {
        "id": "XEv4DBHrS_Dw"
      },
      "source": [
        "#### __add__"
      ]
    },
    {
      "cell_type": "code",
      "metadata": {
        "colab": {
          "base_uri": "https://localhost:8080/"
        },
        "id": "xPHjQDlkxhiR",
        "outputId": "8e9834c0-74c3-44c8-b94d-cc089354c6d7"
      },
      "source": [
        "# __add__\r\n",
        "\r\n",
        "num = 10\r\n",
        "print(num)\r\n",
        "num.__add__(5)\r\n",
        "\r\n",
        "\r\n",
        "# Now Adding two dict\r\n",
        "# Here Test is inhert from dict class\r\n",
        "class Test(dict):\r\n",
        "  def __add__(self,other):\r\n",
        "    self.update(other)\r\n",
        "    return Test(self)\r\n",
        "\r\n",
        "\r\n",
        "a = Test({1:\"One\"})\r\n",
        "b = Test ({2:\"Two\"})\r\n",
        "print(a+b)"
      ],
      "execution_count": null,
      "outputs": [
        {
          "output_type": "stream",
          "text": [
            "10\n",
            "{1: 'One', 2: 'Two'}\n"
          ],
          "name": "stdout"
        }
      ]
    },
    {
      "cell_type": "markdown",
      "metadata": {
        "id": "gtUc09B9TKRu"
      },
      "source": [
        "#### __str__"
      ]
    },
    {
      "cell_type": "code",
      "metadata": {
        "colab": {
          "base_uri": "https://localhost:8080/",
          "height": 53
        },
        "id": "SOuOB6xEx_HD",
        "outputId": "537f51b5-afe1-451e-e999-63d552705daa"
      },
      "source": [
        "# __str__\r\n",
        "\r\n",
        "num = 12\r\n",
        "print(type(num))\r\n",
        "\r\n",
        "str(num)\r\n"
      ],
      "execution_count": null,
      "outputs": [
        {
          "output_type": "stream",
          "text": [
            "<class 'int'>\n"
          ],
          "name": "stdout"
        },
        {
          "output_type": "execute_result",
          "data": {
            "application/vnd.google.colaboratory.intrinsic+json": {
              "type": "string"
            },
            "text/plain": [
              "'12'"
            ]
          },
          "metadata": {
            "tags": []
          },
          "execution_count": 27
        }
      ]
    },
    {
      "cell_type": "code",
      "metadata": {
        "colab": {
          "base_uri": "https://localhost:8080/",
          "height": 35
        },
        "id": "DU0qXWsGziHP",
        "outputId": "e5a2fd0c-b189-4b4b-e5b9-71bfd4883b2f"
      },
      "source": [
        "int.__str__(num)"
      ],
      "execution_count": null,
      "outputs": [
        {
          "output_type": "execute_result",
          "data": {
            "application/vnd.google.colaboratory.intrinsic+json": {
              "type": "string"
            },
            "text/plain": [
              "'12'"
            ]
          },
          "metadata": {
            "tags": []
          },
          "execution_count": 28
        }
      ]
    },
    {
      "cell_type": "code",
      "metadata": {
        "colab": {
          "base_uri": "https://localhost:8080/"
        },
        "id": "BoIX3pWZzx3B",
        "outputId": "cfab62b8-aee7-4d1c-b917-e4ac6283f085"
      },
      "source": [
        "class Exployee():\r\n",
        "  def __init__(self):\r\n",
        "    self.name = 'Sandy'\r\n",
        "    self.salary = 45000\r\n",
        "\r\n",
        "  def __str__(self):\r\n",
        "    return f\"Name = {self.name}  salary = {str(self.salary)}\"\r\n",
        "\r\n",
        "  def __repr__(self):\r\n",
        "    return f\"Name = {self.name}  salary = {str(self.salary)}\"\r\n",
        "\r\n",
        "obj = Exployee()    \r\n",
        "print(obj)\r\n",
        "obj"
      ],
      "execution_count": null,
      "outputs": [
        {
          "output_type": "stream",
          "text": [
            "Name = Sandy  salary = 45000\n"
          ],
          "name": "stdout"
        },
        {
          "output_type": "execute_result",
          "data": {
            "text/plain": [
              "Name = Sandy  salary = 45000"
            ]
          },
          "metadata": {
            "tags": []
          },
          "execution_count": 35
        }
      ]
    },
    {
      "cell_type": "markdown",
      "metadata": {
        "id": "VsSMHBHnTSic"
      },
      "source": [
        "#### __ge__"
      ]
    },
    {
      "cell_type": "code",
      "metadata": {
        "colab": {
          "base_uri": "https://localhost:8080/"
        },
        "id": "WaQEfQTu1bP8",
        "outputId": "a89c5fd2-d037-4d25-ed76-eaa55163174b"
      },
      "source": [
        "# __ge__\r\n",
        "\r\n",
        "class Distance:\r\n",
        "  def __init__(self,x=None,y=None):\r\n",
        "  #def __inti__(self,x,y):\r\n",
        "    self.ft   = x\r\n",
        "    self.inch = y\r\n",
        "\r\n",
        "  def __ge__(x,y):\r\n",
        "    var1 = x.ft*12+x.inch\r\n",
        "    var2 = y.ft*12+y.inch\r\n",
        "\r\n",
        "    if var1>=var2:\r\n",
        "      return True\r\n",
        "    else:\r\n",
        "      return False\r\n",
        "\r\n",
        "\r\n",
        "d1 = Distance(3,7)      \r\n",
        "d2 = Distance(10,20)      \r\n",
        "\r\n",
        "print(d1>=d2)\r\n",
        "print(d1<=d2)"
      ],
      "execution_count": null,
      "outputs": [
        {
          "output_type": "stream",
          "text": [
            "False\n",
            "True\n"
          ],
          "name": "stdout"
        }
      ]
    },
    {
      "cell_type": "markdown",
      "metadata": {
        "id": "oZPT_wC1TYwT"
      },
      "source": [
        "#### ____int____ &  ___index___"
      ]
    },
    {
      "cell_type": "code",
      "metadata": {
        "colab": {
          "base_uri": "https://localhost:8080/"
        },
        "id": "YcYdsuK23gZE",
        "outputId": "0f0de6ba-aaf4-45d5-cdbc-613a5514ead1"
      },
      "source": [
        "# __int__ and __index__\r\n",
        "\r\n",
        "class Test:\r\n",
        "\r\n",
        "  def __init__(self,val):\r\n",
        "    self.val = val\r\n",
        "\r\n",
        "\r\n",
        "  \r\n",
        "  def __int__(self):\r\n",
        "     return  ord(self.val)\r\n",
        "\r\n",
        "  # Type converstion\r\n",
        "  def __index__(self):\r\n",
        "    return ord(self.val)\r\n",
        "\r\n",
        "\r\n",
        "c1 = Test('a')    \r\n",
        "print(int(c1))\r\n",
        "print(hex(c1))\r\n",
        "print(bin(c1))\r\n",
        "print(oct(c1))\r\n"
      ],
      "execution_count": null,
      "outputs": [
        {
          "output_type": "stream",
          "text": [
            "97\n",
            "0x61\n",
            "0b1100001\n",
            "0o141\n"
          ],
          "name": "stdout"
        }
      ]
    },
    {
      "cell_type": "markdown",
      "metadata": {
        "id": "2G1DvO0iT2R0"
      },
      "source": [
        "#### __call__"
      ]
    },
    {
      "cell_type": "code",
      "metadata": {
        "id": "sTN28FA2S5R4"
      },
      "source": [
        "# callable function\r\n",
        "# __call__\r\n",
        "\r\n",
        "class Tamil():\r\n",
        "  def __call__(self):\r\n",
        "    print(\"Welcome to Cyber world\")\r\n",
        "\r\n",
        "Obj = Tamil()\r\n",
        "print(Obj)\r\n",
        "Obj()\r\n"
      ],
      "execution_count": null,
      "outputs": []
    },
    {
      "cell_type": "markdown",
      "metadata": {
        "id": "dWn_RAgD78XG"
      },
      "source": [
        "\r\n",
        "\r\n",
        "---\r\n",
        "\r\n"
      ]
    },
    {
      "cell_type": "markdown",
      "metadata": {
        "id": "G4Urc8eu7_mn"
      },
      "source": [
        "### Build in Function"
      ]
    },
    {
      "cell_type": "markdown",
      "metadata": {
        "id": "-1qfBRuXUfx3"
      },
      "source": [
        "#### abs"
      ]
    },
    {
      "cell_type": "code",
      "metadata": {
        "colab": {
          "base_uri": "https://localhost:8080/"
        },
        "id": "vO3KWqpc8GP3",
        "outputId": "143e2523-0602-4df2-ec0b-94ec99bd4e8a"
      },
      "source": [
        "# abs\r\n",
        "\r\n",
        "num = -123\r\n",
        "print(num)\r\n",
        "print(type(num))\r\n",
        "print(abs(num))\r\n",
        "print(type(num))\r\n",
        "\r\n",
        "print()\r\n",
        "\r\n",
        "print(abs(-55))\r\n",
        "print(abs(-5.54))\r\n",
        "print(abs(55))\r\n",
        "\r\n",
        "print()\r\n",
        "\r\n",
        "print(abs(1+3j))"
      ],
      "execution_count": null,
      "outputs": [
        {
          "output_type": "stream",
          "text": [
            "-123\n",
            "<class 'int'>\n",
            "123\n",
            "<class 'int'>\n",
            "\n",
            "55\n",
            "5.54\n",
            "55\n",
            "\n",
            "3.1622776601683795\n"
          ],
          "name": "stdout"
        }
      ]
    },
    {
      "cell_type": "markdown",
      "metadata": {
        "id": "54Hkm8y4Ukb8"
      },
      "source": [
        "#### all()"
      ]
    },
    {
      "cell_type": "code",
      "metadata": {
        "colab": {
          "base_uri": "https://localhost:8080/"
        },
        "id": "5POVXo5n8yym",
        "outputId": "d9da7f4f-45aa-459e-eadf-771f868e8b3d"
      },
      "source": [
        "# all()\r\n",
        "\r\n",
        "# True = 1 and (1,2,3,...,n)\r\n",
        "# False = 0\r\n",
        "List1 = [1,2,3,4,5,6,9]\r\n",
        "print(all(List1))\r\n",
        "print()\r\n",
        "List2 = [0,False]\r\n",
        "print(all(List2))\r\n",
        "print()\r\n",
        "List3 = [10,1,2,3,4,5]\r\n",
        "print(all(List3))\r\n",
        "print()\r\n",
        "List5 = [0,1,2,3,4,5]\r\n",
        "print(all(List5))\r\n",
        "print()\r\n",
        "List4 = []\r\n",
        "print(all(List4))\r\n"
      ],
      "execution_count": null,
      "outputs": [
        {
          "output_type": "stream",
          "text": [
            "True\n",
            "\n",
            "False\n",
            "\n",
            "True\n",
            "\n",
            "False\n",
            "\n",
            "True\n"
          ],
          "name": "stdout"
        }
      ]
    },
    {
      "cell_type": "markdown",
      "metadata": {
        "id": "20JWETeBUrTR"
      },
      "source": [
        "#### any()"
      ]
    },
    {
      "cell_type": "code",
      "metadata": {
        "colab": {
          "base_uri": "https://localhost:8080/"
        },
        "id": "Ma2FMab2-GHH",
        "outputId": "c813fadd-9b4e-488d-ae7c-dce60a84cba0"
      },
      "source": [
        "# any()\r\n",
        "\r\n",
        "my_list = [False,1,False,True]\r\n",
        "ANY = any(my_list)\r\n",
        "print(ANY)"
      ],
      "execution_count": null,
      "outputs": [
        {
          "output_type": "stream",
          "text": [
            "True\n"
          ],
          "name": "stdout"
        }
      ]
    },
    {
      "cell_type": "code",
      "metadata": {
        "colab": {
          "base_uri": "https://localhost:8080/"
        },
        "id": "Y82h0UFW-dQ-",
        "outputId": "b21e676e-312d-4ca0-b3f2-aced742d54fc"
      },
      "source": [
        "my_list = [False,0,False,0]\r\n",
        "ANY = any(my_list)\r\n",
        "print(ANY)"
      ],
      "execution_count": null,
      "outputs": [
        {
          "output_type": "stream",
          "text": [
            "False\n"
          ],
          "name": "stdout"
        }
      ]
    },
    {
      "cell_type": "markdown",
      "metadata": {
        "id": "U7kltJCQUwga"
      },
      "source": [
        "#### bin()"
      ]
    },
    {
      "cell_type": "code",
      "metadata": {
        "colab": {
          "base_uri": "https://localhost:8080/"
        },
        "id": "3p8loFAdMJ9E",
        "outputId": "d3bc8c8d-f72e-4b2a-da83-1617e3a1972c"
      },
      "source": [
        "# bin()\r\n",
        "\r\n",
        "num = 5\r\n",
        "print(num)\r\n",
        "print()\r\n",
        "print(bin(num))\r\n",
        "\r\n"
      ],
      "execution_count": null,
      "outputs": [
        {
          "output_type": "stream",
          "text": [
            "5\n",
            "\n",
            "0b101\n"
          ],
          "name": "stdout"
        }
      ]
    },
    {
      "cell_type": "code",
      "metadata": {
        "colab": {
          "base_uri": "https://localhost:8080/"
        },
        "id": "5PTLkXEPMd5C",
        "outputId": "d22f5279-5979-484a-e8b2-084cea5de5fe"
      },
      "source": [
        "num = 8\r\n",
        "print(num)\r\n",
        "print()\r\n",
        "print(bin(num))\r\n"
      ],
      "execution_count": null,
      "outputs": [
        {
          "output_type": "stream",
          "text": [
            "8\n",
            "\n",
            "0b1000\n"
          ],
          "name": "stdout"
        }
      ]
    },
    {
      "cell_type": "markdown",
      "metadata": {
        "id": "7liJ8rRAU1E7"
      },
      "source": [
        "#### bool()"
      ]
    },
    {
      "cell_type": "code",
      "metadata": {
        "colab": {
          "base_uri": "https://localhost:8080/"
        },
        "id": "DS_UV9ElMoXe",
        "outputId": "2c334e49-3435-4d93-8a69-25e53b4a45ed"
      },
      "source": [
        "# bool()\r\n",
        "\r\n",
        "x = False\r\n",
        "print(x)\r\n",
        "y = True\r\n",
        "print(y)"
      ],
      "execution_count": null,
      "outputs": [
        {
          "output_type": "stream",
          "text": [
            "False\n",
            "True\n"
          ],
          "name": "stdout"
        }
      ]
    },
    {
      "cell_type": "code",
      "metadata": {
        "colab": {
          "base_uri": "https://localhost:8080/"
        },
        "id": "66T3Fe9yNEbc",
        "outputId": "e6d10c32-af22-4dae-cbc1-c1c760536e55"
      },
      "source": [
        "i = 5\r\n",
        "j = 10\r\n",
        "print(i==j)\r\n",
        "print()\r\n",
        "print(bool(i==j))"
      ],
      "execution_count": null,
      "outputs": [
        {
          "output_type": "stream",
          "text": [
            "False\n",
            "\n",
            "False\n"
          ],
          "name": "stdout"
        }
      ]
    },
    {
      "cell_type": "code",
      "metadata": {
        "colab": {
          "base_uri": "https://localhost:8080/"
        },
        "id": "b-aCGXIvNSN-",
        "outputId": "0b2fbe79-bb72-49d5-f2a5-a60061f1a846"
      },
      "source": [
        "x =None\r\n",
        "print(x)\r\n",
        "print()\r\n",
        "print(bool(x))"
      ],
      "execution_count": null,
      "outputs": [
        {
          "output_type": "stream",
          "text": [
            "None\n",
            "\n",
            "False\n"
          ],
          "name": "stdout"
        }
      ]
    },
    {
      "cell_type": "code",
      "metadata": {
        "colab": {
          "base_uri": "https://localhost:8080/"
        },
        "id": "6fPoH3KqNZ3P",
        "outputId": "3745d296-bad0-4a02-d77c-b53c7b428911"
      },
      "source": [
        "Tuple = ()\r\n",
        "print(Tuple)\r\n",
        "print()\r\n",
        "print(bool(Tuple))"
      ],
      "execution_count": null,
      "outputs": [
        {
          "output_type": "stream",
          "text": [
            "()\n",
            "\n",
            "False\n"
          ],
          "name": "stdout"
        }
      ]
    },
    {
      "cell_type": "code",
      "metadata": {
        "colab": {
          "base_uri": "https://localhost:8080/"
        },
        "id": "fpsRfHH7NkIt",
        "outputId": "533cd7d4-b778-4966-bc9c-ba4782f86cac"
      },
      "source": [
        "Dict = {}\r\n",
        "print(Dict)\r\n",
        "print()\r\n",
        "print(bool(Dict))"
      ],
      "execution_count": null,
      "outputs": [
        {
          "output_type": "stream",
          "text": [
            "{}\n",
            "\n",
            "False\n"
          ],
          "name": "stdout"
        }
      ]
    },
    {
      "cell_type": "code",
      "metadata": {
        "colab": {
          "base_uri": "https://localhost:8080/"
        },
        "id": "Enpq6tO8Nrxe",
        "outputId": "066d0f7e-4cdc-40a1-e2d6-c5dfcb6dc1b1"
      },
      "source": [
        "T = 0.0\r\n",
        "print(T)\r\n",
        "print()\r\n",
        "print(bool(T))"
      ],
      "execution_count": null,
      "outputs": [
        {
          "output_type": "stream",
          "text": [
            "0.0\n",
            "\n",
            "False\n"
          ],
          "name": "stdout"
        }
      ]
    },
    {
      "cell_type": "code",
      "metadata": {
        "colab": {
          "base_uri": "https://localhost:8080/"
        },
        "id": "KDw_ZoOsN2d9",
        "outputId": "0b2369f3-0464-4923-da11-87ab1976eafc"
      },
      "source": [
        "Str = ''\r\n",
        "print(Str)\r\n",
        "print()\r\n",
        "print(bool(Str))"
      ],
      "execution_count": null,
      "outputs": [
        {
          "output_type": "stream",
          "text": [
            "\n",
            "\n",
            "False\n"
          ],
          "name": "stdout"
        }
      ]
    },
    {
      "cell_type": "code",
      "metadata": {
        "colab": {
          "base_uri": "https://localhost:8080/"
        },
        "id": "5Tqgh7X_N-9u",
        "outputId": "5c3a08d2-1012-4d45-b5ed-21cfee34cbc4"
      },
      "source": [
        "Str = ' ' # speace\r\n",
        "print(Str)\r\n",
        "print()\r\n",
        "print(bool(Str))"
      ],
      "execution_count": null,
      "outputs": [
        {
          "output_type": "stream",
          "text": [
            " \n",
            "\n",
            "True\n"
          ],
          "name": "stdout"
        }
      ]
    },
    {
      "cell_type": "markdown",
      "metadata": {
        "id": "b2l7feYsU9k9"
      },
      "source": [
        "#### bytearray()"
      ]
    },
    {
      "cell_type": "code",
      "metadata": {
        "colab": {
          "base_uri": "https://localhost:8080/"
        },
        "id": "ihJR-ZsBOMZ5",
        "outputId": "36e61ef7-c3f9-4136-f51f-62ad45a4e581"
      },
      "source": [
        "#bytearray()\r\n",
        "\r\n",
        "num = 5\r\n",
        "bArr = bytearray(num)\r\n",
        "print(repr(bArr))"
      ],
      "execution_count": null,
      "outputs": [
        {
          "output_type": "stream",
          "text": [
            "bytearray(b'\\x00\\x00\\x00\\x00\\x00')\n"
          ],
          "name": "stdout"
        }
      ]
    },
    {
      "cell_type": "code",
      "metadata": {
        "colab": {
          "base_uri": "https://localhost:8080/"
        },
        "id": "AmVeKxkJOpsM",
        "outputId": "372eef24-6de3-49d9-9023-ca26b909c4bb"
      },
      "source": [
        "num = 10\r\n",
        "bArr = bytearray(num)\r\n",
        "print(repr(bArr))"
      ],
      "execution_count": null,
      "outputs": [
        {
          "output_type": "stream",
          "text": [
            "bytearray(b'\\x00\\x00\\x00\\x00\\x00\\x00\\x00\\x00\\x00\\x00')\n"
          ],
          "name": "stdout"
        }
      ]
    },
    {
      "cell_type": "code",
      "metadata": {
        "colab": {
          "base_uri": "https://localhost:8080/"
        },
        "id": "LuM4v7rROt_q",
        "outputId": "ac878534-4059-4d74-d42d-2dedf4af91d1"
      },
      "source": [
        "# string means encoding is must\r\n",
        "Str = \" I Love Python \"\r\n",
        "bArr1 = bytearray(Str,encoding='utf-8') # readable format\r\n",
        "bArr2 = bytearray(Str,encoding='utf-16') # unreadable format\r\n",
        "print(bArr1)\r\n",
        "print()\r\n",
        "print(bArr2)\r\n"
      ],
      "execution_count": null,
      "outputs": [
        {
          "output_type": "stream",
          "text": [
            "bytearray(b' I Love Python ')\n",
            "\n",
            "bytearray(b'\\xff\\xfe \\x00I\\x00 \\x00L\\x00o\\x00v\\x00e\\x00 \\x00P\\x00y\\x00t\\x00h\\x00o\\x00n\\x00 \\x00')\n"
          ],
          "name": "stdout"
        }
      ]
    },
    {
      "cell_type": "code",
      "metadata": {
        "colab": {
          "base_uri": "https://localhost:8080/"
        },
        "id": "V7Pg0h1lP2mC",
        "outputId": "03933e97-35f3-45c4-a3c0-bc33644f2d92"
      },
      "source": [
        "# Array means here list\r\n",
        "\r\n",
        "List = [1,2,3,4,5,6]\r\n",
        "bArr = bytearray(List)\r\n",
        "print(bArr)\r\n",
        "\r\n"
      ],
      "execution_count": null,
      "outputs": [
        {
          "output_type": "stream",
          "text": [
            "bytearray(b'\\x01\\x02\\x03\\x04\\x05\\x06')\n"
          ],
          "name": "stdout"
        }
      ]
    },
    {
      "cell_type": "code",
      "metadata": {
        "colab": {
          "base_uri": "https://localhost:8080/"
        },
        "id": "vfNsfc_fQRJb",
        "outputId": "519280c9-57e8-4e13-d6ef-3e9ff124904b"
      },
      "source": [
        "# Empty bytearray\r\n",
        "bArr = bytearray()\r\n",
        "print(bArr)\r\n"
      ],
      "execution_count": null,
      "outputs": [
        {
          "output_type": "stream",
          "text": [
            "bytearray(b'')\n"
          ],
          "name": "stdout"
        }
      ]
    },
    {
      "cell_type": "markdown",
      "metadata": {
        "id": "gSDs1zt4VEnT"
      },
      "source": [
        "#### bytes()"
      ]
    },
    {
      "cell_type": "code",
      "metadata": {
        "colab": {
          "base_uri": "https://localhost:8080/"
        },
        "id": "sVMhObw8QW6L",
        "outputId": "4ca09a20-6b48-4d94-8a21-1fed9a6272b2"
      },
      "source": [
        "# bytes()\r\n",
        "\r\n",
        "Str = \"Python\"\r\n",
        "\r\n",
        "Byte1 = bytes(Str,encoding='utf-8') # universal text format - 8 bits\r\n",
        "Byte2 = bytes(Str,encoding=\"utf-16\")\r\n",
        "print(Byte1)\r\n",
        "print()\r\n",
        "print(Byte2)\r\n"
      ],
      "execution_count": null,
      "outputs": [
        {
          "output_type": "stream",
          "text": [
            "b'Python'\n",
            "\n",
            "b'\\xff\\xfeP\\x00y\\x00t\\x00h\\x00o\\x00n\\x00'\n"
          ],
          "name": "stdout"
        }
      ]
    },
    {
      "cell_type": "code",
      "metadata": {
        "colab": {
          "base_uri": "https://localhost:8080/"
        },
        "id": "8WSw93xcRLZg",
        "outputId": "1daefb4e-a769-4932-9cc7-0247787d542b"
      },
      "source": [
        "num = 10\r\n",
        "Byte = bytes(num)\r\n",
        "print(Byte)"
      ],
      "execution_count": null,
      "outputs": [
        {
          "output_type": "stream",
          "text": [
            "b'\\x00\\x00\\x00\\x00\\x00\\x00\\x00\\x00\\x00\\x00'\n"
          ],
          "name": "stdout"
        }
      ]
    },
    {
      "cell_type": "code",
      "metadata": {
        "colab": {
          "base_uri": "https://localhost:8080/"
        },
        "id": "FzpDGOp1RbD8",
        "outputId": "dbfd4623-cab5-446b-e582-8d8b16c25f5b"
      },
      "source": [
        "List = [2,4,6,8]\r\n",
        "lByte = bytes(List)\r\n",
        "print(lByte)"
      ],
      "execution_count": null,
      "outputs": [
        {
          "output_type": "stream",
          "text": [
            "b'\\x02\\x04\\x06\\x08'\n"
          ],
          "name": "stdout"
        }
      ]
    },
    {
      "cell_type": "markdown",
      "metadata": {
        "id": "y2wNTI7ZVJNV"
      },
      "source": [
        "#### callable()"
      ]
    },
    {
      "cell_type": "code",
      "metadata": {
        "colab": {
          "base_uri": "https://localhost:8080/"
        },
        "id": "1bTAmAdIRpDr",
        "outputId": "3886dd15-54f2-45f9-9a18-b41013d5e570"
      },
      "source": [
        "# callable()\r\n",
        "\r\n",
        "x = 9\r\n",
        "print(callable(5))\r\n",
        "\r\n",
        "print()\r\n",
        "\r\n",
        "def test():\r\n",
        "  return \"From test function\"\r\n",
        "tObj = test  \r\n",
        "print(callable(tObj))"
      ],
      "execution_count": null,
      "outputs": [
        {
          "output_type": "stream",
          "text": [
            "False\n",
            "\n",
            "True\n"
          ],
          "name": "stdout"
        }
      ]
    },
    {
      "cell_type": "code",
      "metadata": {
        "colab": {
          "base_uri": "https://localhost:8080/"
        },
        "id": "GuSmzoaVSIAB",
        "outputId": "0832b856-e846-407a-be75-f5db91893a70"
      },
      "source": [
        "# callable function\r\n",
        "\r\n",
        "class Tamil():\r\n",
        "  def __call__(self):\r\n",
        "    print(\"Welcome to Cyber world\")\r\n",
        "\r\n",
        "Obj = Tamil()\r\n",
        "print(Obj)\r\n",
        "Obj()\r\n"
      ],
      "execution_count": null,
      "outputs": [
        {
          "output_type": "stream",
          "text": [
            "<__main__.Tamil object at 0x7f456b7d0710>\n",
            "Welcome to Cyber world\n"
          ],
          "name": "stdout"
        }
      ]
    },
    {
      "cell_type": "markdown",
      "metadata": {
        "id": "syL3qqw9VOwj"
      },
      "source": [
        "#### chr() = num to str"
      ]
    },
    {
      "cell_type": "code",
      "metadata": {
        "colab": {
          "base_uri": "https://localhost:8080/"
        },
        "id": "hxn1ub-wTBmj",
        "outputId": "444dc296-5cb1-4690-fb43-b28341194e2e"
      },
      "source": [
        "# chr() = num to str\r\n",
        "\r\n",
        "print(chr(112),chr(121),chr(116),\r\n",
        "      chr(104),chr(111),chr(110),\r\n",
        "      chr(116),chr(97),chr(109),\r\n",
        "      chr(105),chr(108),chr(116),\r\n",
        "      chr(117),chr(116),chr(111),\r\n",
        "      chr(114),chr(105),chr(97),chr(108))"
      ],
      "execution_count": null,
      "outputs": [
        {
          "output_type": "stream",
          "text": [
            "p y t h o n t a m i l t u t o r i a l\n"
          ],
          "name": "stdout"
        }
      ]
    },
    {
      "cell_type": "code",
      "metadata": {
        "colab": {
          "base_uri": "https://localhost:8080/"
        },
        "id": "WR8zTnb9UbBg",
        "outputId": "5a5eebea-66e3-4b72-fa23-bffbfa60f7c7"
      },
      "source": [
        "List = [116,97,109,105,108]\r\n",
        "\r\n",
        "for n in List:\r\n",
        "  letter = chr(n)\r\n",
        "  print(letter,end='')"
      ],
      "execution_count": null,
      "outputs": [
        {
          "output_type": "stream",
          "text": [
            "tamil"
          ],
          "name": "stdout"
        }
      ]
    },
    {
      "cell_type": "markdown",
      "metadata": {
        "id": "D7Ufp8RnVTks"
      },
      "source": [
        "#### compile()"
      ]
    },
    {
      "cell_type": "code",
      "metadata": {
        "colab": {
          "base_uri": "https://localhost:8080/"
        },
        "id": "dXxelJ0UU00b",
        "outputId": "590452f0-ca0e-437d-fdef-9372714efe56"
      },
      "source": [
        "# compile()\r\n",
        "\r\n",
        "# Code object\r\n",
        "\r\n",
        "Com = compile(source='print(99)',filename='test',mode='eval')\r\n",
        "exec(Com)"
      ],
      "execution_count": null,
      "outputs": [
        {
          "output_type": "stream",
          "text": [
            "99\n"
          ],
          "name": "stdout"
        }
      ]
    },
    {
      "cell_type": "code",
      "metadata": {
        "colab": {
          "base_uri": "https://localhost:8080/"
        },
        "id": "eMCRLkcPVw3h",
        "outputId": "9b5fb0ee-7a3d-40be-e070-fb7787d614a0"
      },
      "source": [
        "Com = compile(source='print(99)\\nprint(77)',filename='test',mode='exec')\r\n",
        "exec(Com)\r\n"
      ],
      "execution_count": null,
      "outputs": [
        {
          "output_type": "stream",
          "text": [
            "99\n",
            "77\n"
          ],
          "name": "stdout"
        }
      ]
    },
    {
      "cell_type": "markdown",
      "metadata": {
        "id": "oqhlg9UWVWeQ"
      },
      "source": [
        "#### complex()"
      ]
    },
    {
      "cell_type": "code",
      "metadata": {
        "colab": {
          "base_uri": "https://localhost:8080/"
        },
        "id": "ZjQmcpzjV-vw",
        "outputId": "b3a9fd97-5d9b-4e5d-e963-d58172d1341f"
      },
      "source": [
        "# complex()\r\n",
        "\r\n",
        "a = complex(1)\r\n",
        "a"
      ],
      "execution_count": null,
      "outputs": [
        {
          "output_type": "execute_result",
          "data": {
            "text/plain": [
              "(1+0j)"
            ]
          },
          "metadata": {
            "tags": []
          },
          "execution_count": 56
        }
      ]
    },
    {
      "cell_type": "code",
      "metadata": {
        "colab": {
          "base_uri": "https://localhost:8080/"
        },
        "id": "eFq8uNzTWKH6",
        "outputId": "95b3368b-1b9f-4f9e-cb52-68b209dfa006"
      },
      "source": [
        "b = complex(1,2)\r\n",
        "b"
      ],
      "execution_count": null,
      "outputs": [
        {
          "output_type": "execute_result",
          "data": {
            "text/plain": [
              "(1+2j)"
            ]
          },
          "metadata": {
            "tags": []
          },
          "execution_count": 58
        }
      ]
    },
    {
      "cell_type": "code",
      "metadata": {
        "colab": {
          "base_uri": "https://localhost:8080/"
        },
        "id": "09myJW2OWR50",
        "outputId": "01234eaa-20ce-4573-d651-a49fcdd63a09"
      },
      "source": [
        "c = complex(3.5)\r\n",
        "c"
      ],
      "execution_count": null,
      "outputs": [
        {
          "output_type": "execute_result",
          "data": {
            "text/plain": [
              "(3.5+0j)"
            ]
          },
          "metadata": {
            "tags": []
          },
          "execution_count": 60
        }
      ]
    },
    {
      "cell_type": "code",
      "metadata": {
        "colab": {
          "base_uri": "https://localhost:8080/"
        },
        "id": "IIrgda0vWaA7",
        "outputId": "3e586bd3-3740-41f7-9caa-5aa44abc3683"
      },
      "source": [
        "d = complex(7.6,4.5)\r\n",
        "d"
      ],
      "execution_count": null,
      "outputs": [
        {
          "output_type": "execute_result",
          "data": {
            "text/plain": [
              "(7.6+4.5j)"
            ]
          },
          "metadata": {
            "tags": []
          },
          "execution_count": 62
        }
      ]
    },
    {
      "cell_type": "code",
      "metadata": {
        "colab": {
          "base_uri": "https://localhost:8080/"
        },
        "id": "k31qUDJ9WfMN",
        "outputId": "3181361d-f63d-4a04-c352-64de4094f94a"
      },
      "source": [
        "Str1 = complex('1')\r\n",
        "Str1"
      ],
      "execution_count": null,
      "outputs": [
        {
          "output_type": "execute_result",
          "data": {
            "text/plain": [
              "(1+0j)"
            ]
          },
          "metadata": {
            "tags": []
          },
          "execution_count": 65
        }
      ]
    },
    {
      "cell_type": "code",
      "metadata": {
        "colab": {
          "base_uri": "https://localhost:8080/"
        },
        "id": "JUhAzchDWq61",
        "outputId": "ba6aa667-feac-4ffd-aed7-8d58658d4376"
      },
      "source": [
        "Str2 = complex('1.1')\r\n",
        "Str2"
      ],
      "execution_count": null,
      "outputs": [
        {
          "output_type": "execute_result",
          "data": {
            "text/plain": [
              "(1.1+0j)"
            ]
          },
          "metadata": {
            "tags": []
          },
          "execution_count": 67
        }
      ]
    },
    {
      "cell_type": "code",
      "metadata": {
        "colab": {
          "base_uri": "https://localhost:8080/",
          "height": 226
        },
        "id": "weHFn4f0Wxoh",
        "outputId": "0e1efac5-5552-4aa8-fdca-10b091d6520c"
      },
      "source": [
        "# complex func only accept only one str , that also real part\r\n",
        "\r\n",
        "Str3 = complex('1','2') \r\n",
        "Str3"
      ],
      "execution_count": 33,
      "outputs": [
        {
          "output_type": "error",
          "ename": "TypeError",
          "evalue": "ignored",
          "traceback": [
            "\u001b[0;31m---------------------------------------------------------------------------\u001b[0m",
            "\u001b[0;31mTypeError\u001b[0m                                 Traceback (most recent call last)",
            "\u001b[0;32m<ipython-input-33-1bf1e2e4da60>\u001b[0m in \u001b[0;36m<module>\u001b[0;34m()\u001b[0m\n\u001b[1;32m      1\u001b[0m \u001b[0;31m# complex func only accept only one str , that also real part\u001b[0m\u001b[0;34m\u001b[0m\u001b[0;34m\u001b[0m\u001b[0;34m\u001b[0m\u001b[0m\n\u001b[1;32m      2\u001b[0m \u001b[0;34m\u001b[0m\u001b[0m\n\u001b[0;32m----> 3\u001b[0;31m \u001b[0mStr3\u001b[0m \u001b[0;34m=\u001b[0m \u001b[0mcomplex\u001b[0m\u001b[0;34m(\u001b[0m\u001b[0;34m'1'\u001b[0m\u001b[0;34m,\u001b[0m\u001b[0;34m'2'\u001b[0m\u001b[0;34m)\u001b[0m\u001b[0;34m\u001b[0m\u001b[0;34m\u001b[0m\u001b[0m\n\u001b[0m\u001b[1;32m      4\u001b[0m \u001b[0mStr3\u001b[0m\u001b[0;34m\u001b[0m\u001b[0;34m\u001b[0m\u001b[0m\n",
            "\u001b[0;31mTypeError\u001b[0m: complex() can't take second arg if first is a string"
          ]
        }
      ]
    },
    {
      "cell_type": "markdown",
      "metadata": {
        "id": "L--hYlzX1hcy"
      },
      "source": [
        "#### getattr()"
      ]
    },
    {
      "cell_type": "code",
      "metadata": {
        "id": "Ouaqty0t1fXG",
        "outputId": "cbabe7a4-a406-43f8-9c39-019847a475e9",
        "colab": {
          "base_uri": "https://localhost:8080/"
        }
      },
      "source": [
        "# getattr(obj,name or attr)\r\n",
        "\r\n",
        "class Student():\r\n",
        "  age = 12\r\n",
        "  name = 'Nandy'\r\n",
        "\r\n",
        "obj = Student()  \r\n",
        "print(f'The age is {getattr(obj,\"age\")} ')\r\n",
        "print(f\"The age is {getattr(obj,'age')} \")\r\n",
        "# Note :- Quote's is must \r\n",
        "print(f'The age is {obj.age}')\r\n"
      ],
      "execution_count": 39,
      "outputs": [
        {
          "output_type": "stream",
          "text": [
            "The age is 12 \n",
            "The age is 12 \n",
            "The age is 12\n"
          ],
          "name": "stdout"
        }
      ]
    },
    {
      "cell_type": "code",
      "metadata": {
        "id": "Yr7-460b2-_7",
        "outputId": "2973acba-00a8-4ac1-ff4c-6d0a28550ace",
        "colab": {
          "base_uri": "https://localhost:8080/",
          "height": 226
        }
      },
      "source": [
        "Obj = Student()  \r\n",
        "print(f'The gender is {getattr(Obj,\"gender\",\"male\")} ') # here assign gender = male\r\n",
        "print(f\"The gender is {getattr(Obj,'gender')} \") # deafult ah gender inu illa so , through error"
      ],
      "execution_count": 42,
      "outputs": [
        {
          "output_type": "stream",
          "text": [
            "The gender is male \n"
          ],
          "name": "stdout"
        },
        {
          "output_type": "error",
          "ename": "AttributeError",
          "evalue": "ignored",
          "traceback": [
            "\u001b[0;31m---------------------------------------------------------------------------\u001b[0m",
            "\u001b[0;31mAttributeError\u001b[0m                            Traceback (most recent call last)",
            "\u001b[0;32m<ipython-input-42-80eb037ef789>\u001b[0m in \u001b[0;36m<module>\u001b[0;34m()\u001b[0m\n\u001b[1;32m      1\u001b[0m \u001b[0mObj\u001b[0m \u001b[0;34m=\u001b[0m \u001b[0mStudent\u001b[0m\u001b[0;34m(\u001b[0m\u001b[0;34m)\u001b[0m\u001b[0;34m\u001b[0m\u001b[0;34m\u001b[0m\u001b[0m\n\u001b[1;32m      2\u001b[0m \u001b[0mprint\u001b[0m\u001b[0;34m(\u001b[0m\u001b[0;34mf'The gender is {getattr(Obj,\"gender\",\"male\")} '\u001b[0m\u001b[0;34m)\u001b[0m\u001b[0;34m\u001b[0m\u001b[0;34m\u001b[0m\u001b[0m\n\u001b[0;32m----> 3\u001b[0;31m \u001b[0mprint\u001b[0m\u001b[0;34m(\u001b[0m\u001b[0;34mf\"The age is {getattr(Obj,'gender')} \"\u001b[0m\u001b[0;34m)\u001b[0m\u001b[0;34m\u001b[0m\u001b[0;34m\u001b[0m\u001b[0m\n\u001b[0m",
            "\u001b[0;31mAttributeError\u001b[0m: 'Student' object has no attribute 'gender'"
          ]
        }
      ]
    },
    {
      "cell_type": "markdown",
      "metadata": {
        "id": "fCM7M81KVbuh"
      },
      "source": [
        "#### delattr()"
      ]
    },
    {
      "cell_type": "code",
      "metadata": {
        "colab": {
          "base_uri": "https://localhost:8080/",
          "height": 424
        },
        "id": "z-ojj_pPXLUa",
        "outputId": "bb07dc89-2465-4f2d-d05e-27c45832b077"
      },
      "source": [
        "# delattr()\r\n",
        "# delete attribute (only string)\r\n",
        "\r\n",
        "class Student:\r\n",
        "  id = 101\r\n",
        "  name = 'Sandy'\r\n",
        "  email = 'sandy@hotmail.com'\r\n",
        "\r\n",
        "  def info(self):\r\n",
        "    return f\"ID: {self.id} Name : {self.name} \\n Email : {self.email}\"\r\n",
        "\r\n",
        "\r\n",
        "Obj = Student()\r\n",
        "\r\n",
        "print(Obj)\r\n",
        "print()\r\n",
        "print(Obj.info())\r\n",
        "print('delattr')\r\n",
        "#delattr(Student,'name')\r\n",
        "#delattr(obj=Obj,name='id')\r\n",
        "#delattr(Obj,'id')\r\n",
        "delattr(Student,'email')\r\n",
        "#delattr(Obj,'email')\r\n",
        "print(Obj.info())"
      ],
      "execution_count": null,
      "outputs": [
        {
          "output_type": "stream",
          "text": [
            "<__main__.Student object at 0x7f456b6f7668>\n",
            "\n",
            "ID: 101 Name : Sandy \n",
            " Email : sandy@hotmail.com\n",
            "delattr\n"
          ],
          "name": "stdout"
        },
        {
          "output_type": "error",
          "ename": "AttributeError",
          "evalue": "ignored",
          "traceback": [
            "\u001b[0;31m---------------------------------------------------------------------------\u001b[0m",
            "\u001b[0;31mAttributeError\u001b[0m                            Traceback (most recent call last)",
            "\u001b[0;32m<ipython-input-81-d66336271ece>\u001b[0m in \u001b[0;36m<module>\u001b[0;34m()\u001b[0m\n\u001b[1;32m     22\u001b[0m \u001b[0mdelattr\u001b[0m\u001b[0;34m(\u001b[0m\u001b[0mStudent\u001b[0m\u001b[0;34m,\u001b[0m\u001b[0;34m'email'\u001b[0m\u001b[0;34m)\u001b[0m\u001b[0;34m\u001b[0m\u001b[0;34m\u001b[0m\u001b[0m\n\u001b[1;32m     23\u001b[0m \u001b[0;31m#delattr(Obj,'email')\u001b[0m\u001b[0;34m\u001b[0m\u001b[0;34m\u001b[0m\u001b[0;34m\u001b[0m\u001b[0m\n\u001b[0;32m---> 24\u001b[0;31m \u001b[0mprint\u001b[0m\u001b[0;34m(\u001b[0m\u001b[0mObj\u001b[0m\u001b[0;34m.\u001b[0m\u001b[0minfo\u001b[0m\u001b[0;34m(\u001b[0m\u001b[0;34m)\u001b[0m\u001b[0;34m)\u001b[0m\u001b[0;34m\u001b[0m\u001b[0;34m\u001b[0m\u001b[0m\n\u001b[0m",
            "\u001b[0;32m<ipython-input-81-d66336271ece>\u001b[0m in \u001b[0;36minfo\u001b[0;34m(self)\u001b[0m\n\u001b[1;32m      8\u001b[0m \u001b[0;34m\u001b[0m\u001b[0m\n\u001b[1;32m      9\u001b[0m   \u001b[0;32mdef\u001b[0m \u001b[0minfo\u001b[0m\u001b[0;34m(\u001b[0m\u001b[0mself\u001b[0m\u001b[0;34m)\u001b[0m\u001b[0;34m:\u001b[0m\u001b[0;34m\u001b[0m\u001b[0;34m\u001b[0m\u001b[0m\n\u001b[0;32m---> 10\u001b[0;31m     \u001b[0;32mreturn\u001b[0m \u001b[0;34mf\"ID: {self.id} Name : {self.name} \\n Email : {self.email}\"\u001b[0m\u001b[0;34m\u001b[0m\u001b[0;34m\u001b[0m\u001b[0m\n\u001b[0m\u001b[1;32m     11\u001b[0m \u001b[0;34m\u001b[0m\u001b[0m\n\u001b[1;32m     12\u001b[0m \u001b[0;34m\u001b[0m\u001b[0m\n",
            "\u001b[0;31mAttributeError\u001b[0m: 'Student' object has no attribute 'email'"
          ]
        }
      ]
    },
    {
      "cell_type": "markdown",
      "metadata": {
        "id": "OSZDKgETVgkC"
      },
      "source": [
        "#### dir()"
      ]
    },
    {
      "cell_type": "code",
      "metadata": {
        "colab": {
          "base_uri": "https://localhost:8080/"
        },
        "id": "VckachobZr5w",
        "outputId": "28a9fe36-1cd4-438c-8172-d0f429241ffc"
      },
      "source": [
        "# dir()\r\n",
        "Dir = dir()\r\n",
        "print(Dir)"
      ],
      "execution_count": null,
      "outputs": [
        {
          "output_type": "stream",
          "text": [
            "['Byte', 'Byte1', 'Byte2', 'Com', 'Dict', 'Dir', 'In', 'List', 'Obj', 'Out', 'Str', 'Str1', 'Str2', 'Student', 'T', 'Tamil', 'Test', 'Tuple', '_', '_56', '_57', '_58', '_59', '_60', '_61', '_62', '_64', '_65', '_66', '_67', '_82', '__', '___', '__builtin__', '__builtins__', '__doc__', '__loader__', '__name__', '__package__', '__spec__', '_dh', '_i', '_i1', '_i10', '_i11', '_i12', '_i13', '_i14', '_i15', '_i16', '_i17', '_i18', '_i19', '_i2', '_i20', '_i21', '_i22', '_i23', '_i24', '_i25', '_i26', '_i27', '_i28', '_i29', '_i3', '_i30', '_i31', '_i32', '_i33', '_i34', '_i35', '_i36', '_i37', '_i38', '_i39', '_i4', '_i40', '_i41', '_i42', '_i43', '_i44', '_i45', '_i46', '_i47', '_i48', '_i49', '_i5', '_i50', '_i51', '_i52', '_i53', '_i54', '_i55', '_i56', '_i57', '_i58', '_i59', '_i6', '_i60', '_i61', '_i62', '_i63', '_i64', '_i65', '_i66', '_i67', '_i68', '_i69', '_i7', '_i70', '_i71', '_i72', '_i73', '_i74', '_i75', '_i76', '_i77', '_i78', '_i79', '_i8', '_i80', '_i81', '_i82', '_i83', '_i84', '_i9', '_ih', '_ii', '_iii', '_oh', '_sh', 'a', 'b', 'bArr', 'bArr1', 'bArr2', 'c', 'c1', 'd', 'exit', 'get_ipython', 'i', 'j', 'lByte', 'letter', 'n', 'num', 'quit', 'tObj', 'test', 'x', 'y']\n"
          ],
          "name": "stdout"
        }
      ]
    },
    {
      "cell_type": "code",
      "metadata": {
        "colab": {
          "base_uri": "https://localhost:8080/"
        },
        "id": "SJdBEkn_aLMY",
        "outputId": "7cb47feb-1248-40c8-a473-0bfd3b95ae62"
      },
      "source": [
        "List = ['Python','Java','Scala']\r\n",
        "print(dir(List))"
      ],
      "execution_count": null,
      "outputs": [
        {
          "output_type": "stream",
          "text": [
            "['__add__', '__class__', '__contains__', '__delattr__', '__delitem__', '__dir__', '__doc__', '__eq__', '__format__', '__ge__', '__getattribute__', '__getitem__', '__gt__', '__hash__', '__iadd__', '__imul__', '__init__', '__init_subclass__', '__iter__', '__le__', '__len__', '__lt__', '__mul__', '__ne__', '__new__', '__reduce__', '__reduce_ex__', '__repr__', '__reversed__', '__rmul__', '__setattr__', '__setitem__', '__sizeof__', '__str__', '__subclasshook__', 'append', 'clear', 'copy', 'count', 'extend', 'index', 'insert', 'pop', 'remove', 'reverse', 'sort']\n"
          ],
          "name": "stdout"
        }
      ]
    },
    {
      "cell_type": "code",
      "metadata": {
        "colab": {
          "base_uri": "https://localhost:8080/"
        },
        "id": "7-faLxYAa2Q5",
        "outputId": "e1793260-9a6f-4aa8-ff53-f6fb3172a240"
      },
      "source": [
        "class Student():\r\n",
        "  def __init__(self,x):\r\n",
        "    return self.x\r\n",
        "attr = dir(Student)    \r\n",
        "print(attr)\r\n"
      ],
      "execution_count": null,
      "outputs": [
        {
          "output_type": "stream",
          "text": [
            "['__class__', '__delattr__', '__dict__', '__dir__', '__doc__', '__eq__', '__format__', '__ge__', '__getattribute__', '__gt__', '__hash__', '__init__', '__init_subclass__', '__le__', '__lt__', '__module__', '__ne__', '__new__', '__reduce__', '__reduce_ex__', '__repr__', '__setattr__', '__sizeof__', '__str__', '__subclasshook__', '__weakref__']\n"
          ],
          "name": "stdout"
        }
      ]
    },
    {
      "cell_type": "code",
      "metadata": {
        "colab": {
          "base_uri": "https://localhost:8080/"
        },
        "id": "Ac8CfR8kbQ05",
        "outputId": "10987af9-e737-4374-ac36-9138a724fc2a"
      },
      "source": [
        "# __dir__\r\n",
        "class Test():\r\n",
        "  def __init__(self):\r\n",
        "    return None\r\n",
        "\r\n",
        "  def __dir__(self):\r\n",
        "     return [10,20,30] \r\n",
        "obj = Test()    \r\n",
        "attr= dir(obj)\r\n",
        "print(attr)\r\n"
      ],
      "execution_count": null,
      "outputs": [
        {
          "output_type": "stream",
          "text": [
            "[10, 20, 30]\n"
          ],
          "name": "stdout"
        }
      ]
    },
    {
      "cell_type": "markdown",
      "metadata": {
        "id": "skqn3r9GVl7x"
      },
      "source": [
        "#### divmod()"
      ]
    },
    {
      "cell_type": "code",
      "metadata": {
        "colab": {
          "base_uri": "https://localhost:8080/"
        },
        "id": "Z7NhjdD5cE_V",
        "outputId": "9d35e5c1-3838-4d4d-f256-acda6b92c594"
      },
      "source": [
        "# divmod()\r\n",
        "# divmod(x,y) = divmod(x//y,x%y) return tuple\r\n",
        "num = divmod(10,2)\r\n",
        "print(num)\r\n",
        "print()\r\n",
        "quo , rem = divmod(10,3)\r\n",
        "print(\"Quo : \",quo)\r\n",
        "print('Rem : ',rem)"
      ],
      "execution_count": null,
      "outputs": [
        {
          "output_type": "stream",
          "text": [
            "(5, 0)\n",
            "\n",
            "Quo :  3\n",
            "Rem :  1\n"
          ],
          "name": "stdout"
        }
      ]
    },
    {
      "cell_type": "markdown",
      "metadata": {
        "id": "iFqaOr3SVpTU"
      },
      "source": [
        "#### enumerate()"
      ]
    },
    {
      "cell_type": "code",
      "metadata": {
        "colab": {
          "base_uri": "https://localhost:8080/"
        },
        "id": "UYSorlT2dAeX",
        "outputId": "c70593a1-142a-4b92-d030-0ac8a11b48b0"
      },
      "source": [
        "# enumerate()\r\n",
        "# enumerate(element or seq,index_num_Start)\r\n",
        "\r\n",
        "Enum = enumerate([10,20,30,40,50])\r\n",
        "print(Enum)\r\n",
        "print()\r\n",
        "print(list(Enum))"
      ],
      "execution_count": null,
      "outputs": [
        {
          "output_type": "stream",
          "text": [
            "<enumerate object at 0x7f456b7fbee8>\n",
            "\n",
            "[(0, 10), (1, 20), (2, 30), (3, 40), (4, 50)]\n"
          ],
          "name": "stdout"
        }
      ]
    },
    {
      "cell_type": "code",
      "metadata": {
        "colab": {
          "base_uri": "https://localhost:8080/"
        },
        "id": "-gtZ2-yidp6Z",
        "outputId": "de9e024d-78c6-4429-cbf6-0ddac3f6b966"
      },
      "source": [
        "Enum = enumerate([10,20,30,40,50],5)\r\n",
        "print(Enum)\r\n",
        "print()\r\n",
        "print(list(Enum))"
      ],
      "execution_count": null,
      "outputs": [
        {
          "output_type": "stream",
          "text": [
            "<enumerate object at 0x7f4575835708>\n",
            "\n",
            "[(5, 10), (6, 20), (7, 30), (8, 40), (9, 50)]\n"
          ],
          "name": "stdout"
        }
      ]
    },
    {
      "cell_type": "code",
      "metadata": {
        "colab": {
          "base_uri": "https://localhost:8080/"
        },
        "id": "xIkeMcOzd4Nf",
        "outputId": "8cb12cb2-2de9-4972-aa0a-6e6abc9b0b09"
      },
      "source": [
        "Enum = enumerate([10,20,30,40,50],1)\r\n",
        "\r\n",
        "for num in Enum:\r\n",
        "  print(num)\r\n"
      ],
      "execution_count": null,
      "outputs": [
        {
          "output_type": "stream",
          "text": [
            "(1, 10)\n",
            "(2, 20)\n",
            "(3, 30)\n",
            "(4, 40)\n",
            "(5, 50)\n"
          ],
          "name": "stdout"
        }
      ]
    },
    {
      "cell_type": "markdown",
      "metadata": {
        "id": "fymcfMooVtkJ"
      },
      "source": [
        "#### eval()"
      ]
    },
    {
      "cell_type": "code",
      "metadata": {
        "colab": {
          "base_uri": "https://localhost:8080/"
        },
        "id": "oP8dRC22eDT6",
        "outputId": "d9beb121-c147-44d7-ed46-e4e9b6258f2b"
      },
      "source": [
        "# eval()\r\n",
        "# eval() = evalute must in string only\r\n",
        "# eval() take single expression\r\n",
        "\r\n",
        "num = 10\r\n",
        "#print(eval(source=,globals=,locals=))\r\n",
        "print(eval(\"num + 5\"))\r\n",
        "print()\r\n",
        "print(eval(\"num * 5\"))\r\n",
        "print()\r\n",
        "print(eval( num * '2'))\r\n",
        "print()\r\n",
        "print(eval(\"num * 5\"))\r\n",
        "\r\n",
        "\r\n"
      ],
      "execution_count": null,
      "outputs": [
        {
          "output_type": "stream",
          "text": [
            "15\n",
            "\n",
            "50\n",
            "\n",
            "2222222222\n",
            "\n",
            "50\n"
          ],
          "name": "stdout"
        }
      ]
    },
    {
      "cell_type": "markdown",
      "metadata": {
        "id": "JeoXuTF6Vw1h"
      },
      "source": [
        "#### exec()"
      ]
    },
    {
      "cell_type": "code",
      "metadata": {
        "colab": {
          "base_uri": "https://localhost:8080/"
        },
        "id": "tTWiVoypfjoa",
        "outputId": "df7d9cf1-e511-4bb4-cedb-0f5c56817fde"
      },
      "source": [
        "# exec()\r\n",
        "# exec() = execute -> dynamic code execution\r\n",
        "# exec() take multiple expression\r\n",
        "\r\n",
        "x = 5\r\n",
        "exec('print(x==5)')\r\n",
        "exec('print(x+5)')\r\n",
        "exec('print(x*5)')"
      ],
      "execution_count": null,
      "outputs": [
        {
          "output_type": "stream",
          "text": [
            "True\n",
            "10\n",
            "25\n"
          ],
          "name": "stdout"
        }
      ]
    },
    {
      "cell_type": "code",
      "metadata": {
        "colab": {
          "base_uri": "https://localhost:8080/"
        },
        "id": "tCkuNkIWgXIY",
        "outputId": "1d78bf11-2188-454a-da41-f94a9d12ff3e"
      },
      "source": [
        "#Now we see dynamic code\r\n",
        "from math import *\r\n",
        "\r\n",
        "for l in range(1,5):\r\n",
        "  func = input('Enter code : ').strip()\r\n",
        "  try:\r\n",
        "    exec(func)\r\n",
        "  except Exception as ex:\r\n",
        "    print(ex)\r\n",
        "    break\r\n",
        "\r\n",
        "  print('Done')  \r\n",
        "\r\n"
      ],
      "execution_count": 2,
      "outputs": [
        {
          "output_type": "stream",
          "text": [
            "Enter code : print(max([10,20,30,40,50]))\n",
            "50\n",
            "Done\n",
            "Enter code : print(min([10,20,30,40,50]))\n",
            "10\n",
            "Done\n",
            "Enter code : print(sum([10,20,30,40,50]))\n",
            "150\n",
            "Done\n",
            "Enter code : print(pow(10,2))\n",
            "100.0\n",
            "Done\n"
          ],
          "name": "stdout"
        }
      ]
    },
    {
      "cell_type": "markdown",
      "metadata": {
        "id": "pYJfetYXtTDr"
      },
      "source": [
        "#### filter()"
      ]
    },
    {
      "cell_type": "code",
      "metadata": {
        "colab": {
          "base_uri": "https://localhost:8080/"
        },
        "id": "l4pbDgPJrgGT",
        "outputId": "6e5b6775-5bb7-4cbb-9cc3-57d2b7b9a001"
      },
      "source": [
        "# filter(func,iterabe_obj)\r\n",
        "\r\n",
        "def data(x):\r\n",
        "  if x>5:\r\n",
        "    return x\r\n",
        "  return None\r\n",
        "\r\n",
        "result = filter(data,(1,2,7))\r\n",
        "print(list(result))\r\n"
      ],
      "execution_count": 13,
      "outputs": [
        {
          "output_type": "stream",
          "text": [
            "[7]\n"
          ],
          "name": "stdout"
        }
      ]
    },
    {
      "cell_type": "code",
      "metadata": {
        "id": "aBy3P6E5uyck",
        "outputId": "7951c94f-ebc8-44d7-fbbf-0ff4224b320d",
        "colab": {
          "base_uri": "https://localhost:8080/"
        }
      },
      "source": [
        "# filter(func,iterabe_obj)\r\n",
        "def data(x):\r\n",
        "  if x>5:\r\n",
        "    return x\r\n",
        "  return None\r\n",
        "result = filter(data,(1,2,3))\r\n",
        "print(list(result))\r\n"
      ],
      "execution_count": 15,
      "outputs": [
        {
          "output_type": "stream",
          "text": [
            "[]\n"
          ],
          "name": "stdout"
        }
      ]
    },
    {
      "cell_type": "code",
      "metadata": {
        "id": "yea-GnJfu4XJ",
        "outputId": "d1940b0c-add5-482a-e2c7-c0d195d3a3a0",
        "colab": {
          "base_uri": "https://localhost:8080/"
        }
      },
      "source": [
        "# here func is None , it's return None-zero elements only\r\n",
        "result=(filter(None,(1,0,6,7,0)))\r\n",
        "print(list(result))"
      ],
      "execution_count": 19,
      "outputs": [
        {
          "output_type": "stream",
          "text": [
            "[1, 6, 7]\n"
          ],
          "name": "stdout"
        }
      ]
    },
    {
      "cell_type": "code",
      "metadata": {
        "id": "_EqQQS9ZvYrI",
        "outputId": "a77343ca-68ba-4940-9241-3f2a7580d027",
        "colab": {
          "base_uri": "https://localhost:8080/"
        }
      },
      "source": [
        "result=(filter(None,(1,20,6,7,70)))\r\n",
        "print(list(result))"
      ],
      "execution_count": 22,
      "outputs": [
        {
          "output_type": "stream",
          "text": [
            "[1, 20, 6, 7, 70]\n"
          ],
          "name": "stdout"
        }
      ]
    },
    {
      "cell_type": "markdown",
      "metadata": {
        "id": "7Uee2bOdznOe"
      },
      "source": [
        "#### float()"
      ]
    },
    {
      "cell_type": "code",
      "metadata": {
        "id": "A3fV7e2TziVG",
        "outputId": "88740052-f117-4b3f-a6a1-d14fd7f2b045",
        "colab": {
          "base_uri": "https://localhost:8080/"
        }
      },
      "source": [
        "num = 5\r\n",
        "print(num)\r\n",
        "print(type(num))\r\n",
        "print()\r\n",
        "num=float(num)\r\n",
        "print(num)\r\n",
        "print(type(num))\r\n",
        "print()\r\n",
        "num=float('22')\r\n",
        "print(num)\r\n",
        "print(type(num))"
      ],
      "execution_count": 27,
      "outputs": [
        {
          "output_type": "stream",
          "text": [
            "5\n",
            "<class 'int'>\n",
            "\n",
            "5.0\n",
            "<class 'float'>\n",
            "\n",
            "22.0\n",
            "<class 'float'>\n"
          ],
          "name": "stdout"
        }
      ]
    },
    {
      "cell_type": "markdown",
      "metadata": {
        "id": "JrjDhWcg0qMx"
      },
      "source": [
        "#### format()"
      ]
    },
    {
      "cell_type": "code",
      "metadata": {
        "id": "BqT7feSh0pF3",
        "outputId": "bebe252d-eca1-4d72-8418-2fd46881befd",
        "colab": {
          "base_uri": "https://localhost:8080/"
        }
      },
      "source": [
        "# format(value,foramt_spec)\r\n",
        "\r\n",
        "print(format(103,'d')) # decimal\r\n",
        "print()\r\n",
        "print(format(103,'f')) # float\r\n",
        "print()\r\n",
        "print(format(5,'b')) # binary"
      ],
      "execution_count": 32,
      "outputs": [
        {
          "output_type": "stream",
          "text": [
            "103\n",
            "\n",
            "103.000000\n",
            "\n",
            "101\n"
          ],
          "name": "stdout"
        }
      ]
    },
    {
      "cell_type": "code",
      "metadata": {
        "id": "m0aBhHf21ZvZ"
      },
      "source": [
        ""
      ],
      "execution_count": null,
      "outputs": []
    },
    {
      "cell_type": "markdown",
      "metadata": {
        "id": "qoL3sban79-0"
      },
      "source": [
        "\r\n",
        "\r\n",
        "---\r\n",
        "\r\n"
      ]
    },
    {
      "cell_type": "markdown",
      "metadata": {
        "id": "OXcfevDH6PQQ"
      },
      "source": [
        "### Modules"
      ]
    },
    {
      "cell_type": "code",
      "metadata": {
        "colab": {
          "base_uri": "https://localhost:8080/"
        },
        "id": "jJRqopje5qWh",
        "outputId": "38a623e2-6494-4c63-c490-a2d2fdfa3299"
      },
      "source": [
        "# Calender\r\n",
        "\r\n",
        "import calendar\r\n",
        "\r\n",
        "cal = calendar.month(2021,1)\r\n",
        "print(\"Here the calendar : \\n\")\r\n",
        "#print(repr(cal))\r\n",
        "print(cal)"
      ],
      "execution_count": null,
      "outputs": [
        {
          "output_type": "stream",
          "text": [
            "Here the calendar : \n",
            "\n",
            "    January 2021\n",
            "Mo Tu We Th Fr Sa Su\n",
            "             1  2  3\n",
            " 4  5  6  7  8  9 10\n",
            "11 12 13 14 15 16 17\n",
            "18 19 20 21 22 23 24\n",
            "25 26 27 28 29 30 31\n",
            "\n"
          ],
          "name": "stdout"
        }
      ]
    },
    {
      "cell_type": "code",
      "metadata": {
        "colab": {
          "base_uri": "https://localhost:8080/"
        },
        "id": "Q9ynqa736plA",
        "outputId": "fd57aae7-98aa-4180-f62a-02b54edd4e6a"
      },
      "source": [
        "# time module\r\n",
        "\r\n",
        "import time\r\n",
        "\r\n",
        "t = time.localtime(time.time())\r\n",
        "print(\"Local time : \",t)\r\n",
        "\r\n"
      ],
      "execution_count": null,
      "outputs": [
        {
          "output_type": "stream",
          "text": [
            "Local time :  time.struct_time(tm_year=2021, tm_mon=1, tm_mday=29, tm_hour=11, tm_min=37, tm_sec=54, tm_wday=4, tm_yday=29, tm_isdst=0)\n"
          ],
          "name": "stdout"
        },
        {
          "output_type": "execute_result",
          "data": {
            "text/plain": [
              "time.struct_time(tm_year=2021, tm_mon=1, tm_mday=29, tm_hour=11, tm_min=37, tm_sec=54, tm_wday=4, tm_yday=29, tm_isdst=0)"
            ]
          },
          "metadata": {
            "tags": []
          },
          "execution_count": 58
        }
      ]
    },
    {
      "cell_type": "code",
      "metadata": {
        "colab": {
          "base_uri": "https://localhost:8080/"
        },
        "id": "bCIKBhYS7QZw",
        "outputId": "ad692bd9-2124-414e-e2ed-b78a69abd628"
      },
      "source": [
        "t = time.asctime(time.localtime(time.time()))\r\n",
        "print('Readable format')\r\n",
        "print(\"Local time : \",t)\r\n"
      ],
      "execution_count": null,
      "outputs": [
        {
          "output_type": "stream",
          "text": [
            "Readable format\n",
            "Local time :  Fri Jan 29 11:37:42 2021\n"
          ],
          "name": "stdout"
        }
      ]
    },
    {
      "cell_type": "code",
      "metadata": {
        "id": "bWYRVYM87sD8"
      },
      "source": [
        ""
      ],
      "execution_count": null,
      "outputs": []
    }
  ]
}