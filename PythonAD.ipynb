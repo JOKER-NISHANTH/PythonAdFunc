{
  "nbformat": 4,
  "nbformat_minor": 0,
  "metadata": {
    "colab": {
      "name": "PythonAD.ipynb",
      "provenance": [],
      "authorship_tag": "ABX9TyNLx0HuqhVHgvhvXK9D/yqo",
      "include_colab_link": true
    },
    "kernelspec": {
      "name": "python3",
      "display_name": "Python 3"
    }
  },
  "cells": [
    {
      "cell_type": "markdown",
      "metadata": {
        "id": "view-in-github",
        "colab_type": "text"
      },
      "source": [
        "<a href=\"https://colab.research.google.com/github/JOKER-NISHANTH/PythonAdFunc/blob/master/PythonAD.ipynb\" target=\"_parent\"><img src=\"https://colab.research.google.com/assets/colab-badge.svg\" alt=\"Open In Colab\"/></a>"
      ]
    },
    {
      "cell_type": "markdown",
      "metadata": {
        "id": "vRWyG-r7q2XH"
      },
      "source": [
        "To remove or delete an element tuple in Python"
      ]
    },
    {
      "cell_type": "code",
      "metadata": {
        "colab": {
          "base_uri": "https://localhost:8080/",
          "height": 190
        },
        "id": "p1inluMnqw12",
        "outputId": "a65b7330-9fa7-4658-f6bc-ee9904126f26"
      },
      "source": [
        "my_tuple = ('p','y','t','h','o','n')\r\n",
        "del my_tuple[0]"
      ],
      "execution_count": 1,
      "outputs": [
        {
          "output_type": "error",
          "ename": "TypeError",
          "evalue": "ignored",
          "traceback": [
            "\u001b[0;31m---------------------------------------------------------------------------\u001b[0m",
            "\u001b[0;31mTypeError\u001b[0m                                 Traceback (most recent call last)",
            "\u001b[0;32m<ipython-input-1-6e18075900ab>\u001b[0m in \u001b[0;36m<module>\u001b[0;34m()\u001b[0m\n\u001b[1;32m      1\u001b[0m \u001b[0mmy_tuple\u001b[0m \u001b[0;34m=\u001b[0m \u001b[0;34m(\u001b[0m\u001b[0;34m'p'\u001b[0m\u001b[0;34m,\u001b[0m\u001b[0;34m'y'\u001b[0m\u001b[0;34m,\u001b[0m\u001b[0;34m't'\u001b[0m\u001b[0;34m,\u001b[0m\u001b[0;34m'h'\u001b[0m\u001b[0;34m,\u001b[0m\u001b[0;34m'o'\u001b[0m\u001b[0;34m,\u001b[0m\u001b[0;34m'n'\u001b[0m\u001b[0;34m)\u001b[0m\u001b[0;34m\u001b[0m\u001b[0;34m\u001b[0m\u001b[0m\n\u001b[0;32m----> 2\u001b[0;31m \u001b[0;32mdel\u001b[0m \u001b[0mmy_tuple\u001b[0m\u001b[0;34m[\u001b[0m\u001b[0;36m0\u001b[0m\u001b[0;34m]\u001b[0m\u001b[0;34m\u001b[0m\u001b[0;34m\u001b[0m\u001b[0m\n\u001b[0m",
            "\u001b[0;31mTypeError\u001b[0m: 'tuple' object doesn't support item deletion"
          ]
        }
      ]
    },
    {
      "cell_type": "code",
      "metadata": {
        "colab": {
          "base_uri": "https://localhost:8080/"
        },
        "id": "2w7j1OrOrWzx",
        "outputId": "0d876f01-3be5-4c32-fc7a-c37f64b64443"
      },
      "source": [
        "my_tuple = ('p','y','t','h','o','n')\r\n",
        "\r\n",
        "try:  \r\n",
        "  del my_tuple[0]  \r\n",
        "\r\n",
        "except Exception as ex:\r\n",
        "  print('Error : ',ex)"
      ],
      "execution_count": 9,
      "outputs": [
        {
          "output_type": "stream",
          "text": [
            "Error :  'tuple' object doesn't support item deletion\n"
          ],
          "name": "stdout"
        }
      ]
    },
    {
      "cell_type": "code",
      "metadata": {
        "colab": {
          "base_uri": "https://localhost:8080/",
          "height": 226
        },
        "id": "pJpSg3fUrqbW",
        "outputId": "9cd0bb90-4936-426e-9251-4ef3ea6b3f29"
      },
      "source": [
        "my_tuple = ('p','y','t','h','o','n')\r\n",
        "\r\n",
        "try:  \r\n",
        "  del my_tuple[0]  \r\n",
        "\r\n",
        "except Exception as ex:\r\n",
        "  print('Error : ',ex)\r\n",
        "\r\n",
        "\r\n",
        "del my_tuple  \r\n",
        "print(my_tuple)"
      ],
      "execution_count": 12,
      "outputs": [
        {
          "output_type": "stream",
          "text": [
            "Error :  'tuple' object doesn't support item deletion\n"
          ],
          "name": "stdout"
        },
        {
          "output_type": "error",
          "ename": "NameError",
          "evalue": "ignored",
          "traceback": [
            "\u001b[0;31m---------------------------------------------------------------------------\u001b[0m",
            "\u001b[0;31mNameError\u001b[0m                                 Traceback (most recent call last)",
            "\u001b[0;32m<ipython-input-12-f0beda1f4d1d>\u001b[0m in \u001b[0;36m<module>\u001b[0;34m()\u001b[0m\n\u001b[1;32m      9\u001b[0m \u001b[0;34m\u001b[0m\u001b[0m\n\u001b[1;32m     10\u001b[0m \u001b[0;32mdel\u001b[0m \u001b[0mmy_tuple\u001b[0m\u001b[0;34m\u001b[0m\u001b[0;34m\u001b[0m\u001b[0m\n\u001b[0;32m---> 11\u001b[0;31m \u001b[0mprint\u001b[0m\u001b[0;34m(\u001b[0m\u001b[0mmy_tuple\u001b[0m\u001b[0;34m)\u001b[0m\u001b[0;34m\u001b[0m\u001b[0;34m\u001b[0m\u001b[0m\n\u001b[0m",
            "\u001b[0;31mNameError\u001b[0m: name 'my_tuple' is not defined"
          ]
        }
      ]
    },
    {
      "cell_type": "code",
      "metadata": {
        "colab": {
          "base_uri": "https://localhost:8080/"
        },
        "id": "px19aX03tGjM",
        "outputId": "3e22051f-fe22-4af4-d1dd-889dd4eb3841"
      },
      "source": [
        "my_tuple = ('p','y','t','h','o','n')\r\n",
        "\r\n",
        "try:  \r\n",
        "  del my_tuple[0]  \r\n",
        "\r\n",
        "except Exception as ex:\r\n",
        "  print('Error : ',ex)\r\n",
        "\r\n",
        "\r\n",
        "del my_tuple\r\n",
        "try:  \r\n",
        "  print(my_tuple)\r\n",
        "except Exception as ex:\r\n",
        "  print(\"Error : \",ex)"
      ],
      "execution_count": 13,
      "outputs": [
        {
          "output_type": "stream",
          "text": [
            "Error :  'tuple' object doesn't support item deletion\n",
            "Error :  name 'my_tuple' is not defined\n"
          ],
          "name": "stdout"
        }
      ]
    },
    {
      "cell_type": "markdown",
      "metadata": {
        "id": "XkOqR5hLtiPr"
      },
      "source": [
        "\r\n",
        "\r\n",
        "---\r\n",
        "\r\n"
      ]
    },
    {
      "cell_type": "markdown",
      "metadata": {
        "id": "h6Vr_Al_tkI9"
      },
      "source": [
        "Switch case implementation by using Dictionary"
      ]
    },
    {
      "cell_type": "code",
      "metadata": {
        "colab": {
          "base_uri": "https://localhost:8080/"
        },
        "id": "YELIoOluteOM",
        "outputId": "36867afc-04a8-4326-8851-01f0fc9c7e18"
      },
      "source": [
        "def monday():\r\n",
        "  return 'monday'\r\n",
        "\r\n",
        "def tuesday():\r\n",
        "  return 'tuesday'\r\n",
        "\r\n",
        "def wednesday():\r\n",
        "  return 'wednesday'\r\n",
        "\r\n",
        "def thursday():\r\n",
        "  return 'thursday'  \r\n",
        "\r\n",
        "def friday():\r\n",
        "  return 'friday'\r\n",
        "\r\n",
        "def saturday():\r\n",
        "  return 'saturday'\r\n",
        "\r\n",
        "def sunday():\r\n",
        "  return 'sunday'    \r\n",
        "\r\n",
        "def default():\r\n",
        "  return 'Incorrect day'\r\n",
        "\r\n",
        "\r\n",
        "switcher={1:monday,2:tuesday,3:wednesday,4:thursday,5:friday,6:saturday,7:sunday}  \r\n",
        "\r\n",
        "def switch(day):\r\n",
        "  #return switcher.get(day,default) \r\n",
        "  return switcher.get(day,default)() # here () denote return function eg: day is 1 means monday()\r\n",
        "\r\n",
        "\r\n",
        "print(switch(1))  \r\n",
        "print(switch(5)) \r\n",
        "print(switch(0))   "
      ],
      "execution_count": 20,
      "outputs": [
        {
          "output_type": "stream",
          "text": [
            "monday\n",
            "friday\n",
            "Incorrect day\n"
          ],
          "name": "stdout"
        }
      ]
    },
    {
      "cell_type": "markdown",
      "metadata": {
        "id": "YjZPDJKRwrap"
      },
      "source": [
        "\r\n",
        "\r\n",
        "---\r\n",
        "\r\n"
      ]
    },
    {
      "cell_type": "markdown",
      "metadata": {
        "id": "QUtGyhoRw-iu"
      },
      "source": [
        "Math function"
      ]
    },
    {
      "cell_type": "code",
      "metadata": {
        "colab": {
          "base_uri": "https://localhost:8080/"
        },
        "id": "m_3YgmI5v2Pq",
        "outputId": "c4d4c7b2-c691-40f1-ffcf-12af195e4884"
      },
      "source": [
        "import math\r\n",
        "print(math.pi)\r\n",
        "print(math.cos(math.pi))\r\n",
        "print(math.exp(10))\r\n",
        "print(math.log10(1000))\r\n",
        "print(math.sinh(1))\r\n",
        "print(math.factorial(6))\r\n"
      ],
      "execution_count": 21,
      "outputs": [
        {
          "output_type": "stream",
          "text": [
            "3.141592653589793\n",
            "-1.0\n",
            "22026.465794806718\n",
            "3.0\n",
            "1.1752011936438014\n",
            "720\n"
          ],
          "name": "stdout"
        }
      ]
    },
    {
      "cell_type": "markdown",
      "metadata": {
        "id": "_nQspS19xrGi"
      },
      "source": [
        "**Magic methods**"
      ]
    },
    {
      "cell_type": "code",
      "metadata": {
        "colab": {
          "base_uri": "https://localhost:8080/"
        },
        "id": "xPHjQDlkxhiR",
        "outputId": "166a4295-7dd5-43cb-8663-3642268b4425"
      },
      "source": [
        "# __add__\r\n",
        "\r\n",
        "num = 10\r\n",
        "print(num)\r\n",
        "num.__add__(5)\r\n",
        "\r\n"
      ],
      "execution_count": 24,
      "outputs": [
        {
          "output_type": "stream",
          "text": [
            "10\n"
          ],
          "name": "stdout"
        },
        {
          "output_type": "execute_result",
          "data": {
            "text/plain": [
              "15"
            ]
          },
          "metadata": {
            "tags": []
          },
          "execution_count": 24
        }
      ]
    },
    {
      "cell_type": "code",
      "metadata": {
        "id": "SOuOB6xEx_HD"
      },
      "source": [
        ""
      ],
      "execution_count": null,
      "outputs": []
    }
  ]
}